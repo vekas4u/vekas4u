{
 "cells": [
  {
   "cell_type": "code",
   "execution_count": 3,
   "metadata": {},
   "outputs": [],
   "source": [
    "# Tempereture dataset"
   ]
  },
  {
   "cell_type": "code",
   "execution_count": 1,
   "metadata": {},
   "outputs": [],
   "source": [
    "import pandas as pd\n",
    "import numpy as np"
   ]
  },
  {
   "cell_type": "code",
   "execution_count": 2,
   "metadata": {},
   "outputs": [
    {
     "data": {
      "text/html": [
       "<div>\n",
       "<style scoped>\n",
       "    .dataframe tbody tr th:only-of-type {\n",
       "        vertical-align: middle;\n",
       "    }\n",
       "\n",
       "    .dataframe tbody tr th {\n",
       "        vertical-align: top;\n",
       "    }\n",
       "\n",
       "    .dataframe thead th {\n",
       "        text-align: right;\n",
       "    }\n",
       "</style>\n",
       "<table border=\"1\" class=\"dataframe\">\n",
       "  <thead>\n",
       "    <tr style=\"text-align: right;\">\n",
       "      <th></th>\n",
       "      <th>station</th>\n",
       "      <th>Date</th>\n",
       "      <th>Present_Tmax</th>\n",
       "      <th>Present_Tmin</th>\n",
       "      <th>LDAPS_RHmin</th>\n",
       "      <th>LDAPS_RHmax</th>\n",
       "      <th>LDAPS_Tmax_lapse</th>\n",
       "      <th>LDAPS_Tmin_lapse</th>\n",
       "      <th>LDAPS_WS</th>\n",
       "      <th>LDAPS_LH</th>\n",
       "      <th>...</th>\n",
       "      <th>LDAPS_PPT2</th>\n",
       "      <th>LDAPS_PPT3</th>\n",
       "      <th>LDAPS_PPT4</th>\n",
       "      <th>lat</th>\n",
       "      <th>lon</th>\n",
       "      <th>DEM</th>\n",
       "      <th>Slope</th>\n",
       "      <th>Solar radiation</th>\n",
       "      <th>Next_Tmax</th>\n",
       "      <th>Next_Tmin</th>\n",
       "    </tr>\n",
       "  </thead>\n",
       "  <tbody>\n",
       "    <tr>\n",
       "      <th>0</th>\n",
       "      <td>1.0</td>\n",
       "      <td>30-06-2013</td>\n",
       "      <td>28.7</td>\n",
       "      <td>21.4</td>\n",
       "      <td>58.255688</td>\n",
       "      <td>91.116364</td>\n",
       "      <td>28.074101</td>\n",
       "      <td>23.006936</td>\n",
       "      <td>6.818887</td>\n",
       "      <td>69.451805</td>\n",
       "      <td>...</td>\n",
       "      <td>0.0</td>\n",
       "      <td>0.0</td>\n",
       "      <td>0.0</td>\n",
       "      <td>37.6046</td>\n",
       "      <td>126.991</td>\n",
       "      <td>212.3350</td>\n",
       "      <td>2.7850</td>\n",
       "      <td>5992.895996</td>\n",
       "      <td>29.1</td>\n",
       "      <td>21.2</td>\n",
       "    </tr>\n",
       "    <tr>\n",
       "      <th>1</th>\n",
       "      <td>2.0</td>\n",
       "      <td>30-06-2013</td>\n",
       "      <td>31.9</td>\n",
       "      <td>21.6</td>\n",
       "      <td>52.263397</td>\n",
       "      <td>90.604721</td>\n",
       "      <td>29.850689</td>\n",
       "      <td>24.035009</td>\n",
       "      <td>5.691890</td>\n",
       "      <td>51.937448</td>\n",
       "      <td>...</td>\n",
       "      <td>0.0</td>\n",
       "      <td>0.0</td>\n",
       "      <td>0.0</td>\n",
       "      <td>37.6046</td>\n",
       "      <td>127.032</td>\n",
       "      <td>44.7624</td>\n",
       "      <td>0.5141</td>\n",
       "      <td>5869.312500</td>\n",
       "      <td>30.5</td>\n",
       "      <td>22.5</td>\n",
       "    </tr>\n",
       "    <tr>\n",
       "      <th>2</th>\n",
       "      <td>3.0</td>\n",
       "      <td>30-06-2013</td>\n",
       "      <td>31.6</td>\n",
       "      <td>23.3</td>\n",
       "      <td>48.690479</td>\n",
       "      <td>83.973587</td>\n",
       "      <td>30.091292</td>\n",
       "      <td>24.565633</td>\n",
       "      <td>6.138224</td>\n",
       "      <td>20.573050</td>\n",
       "      <td>...</td>\n",
       "      <td>0.0</td>\n",
       "      <td>0.0</td>\n",
       "      <td>0.0</td>\n",
       "      <td>37.5776</td>\n",
       "      <td>127.058</td>\n",
       "      <td>33.3068</td>\n",
       "      <td>0.2661</td>\n",
       "      <td>5863.555664</td>\n",
       "      <td>31.1</td>\n",
       "      <td>23.9</td>\n",
       "    </tr>\n",
       "    <tr>\n",
       "      <th>3</th>\n",
       "      <td>4.0</td>\n",
       "      <td>30-06-2013</td>\n",
       "      <td>32.0</td>\n",
       "      <td>23.4</td>\n",
       "      <td>58.239788</td>\n",
       "      <td>96.483688</td>\n",
       "      <td>29.704629</td>\n",
       "      <td>23.326177</td>\n",
       "      <td>5.650050</td>\n",
       "      <td>65.727144</td>\n",
       "      <td>...</td>\n",
       "      <td>0.0</td>\n",
       "      <td>0.0</td>\n",
       "      <td>0.0</td>\n",
       "      <td>37.6450</td>\n",
       "      <td>127.022</td>\n",
       "      <td>45.7160</td>\n",
       "      <td>2.5348</td>\n",
       "      <td>5856.964844</td>\n",
       "      <td>31.7</td>\n",
       "      <td>24.3</td>\n",
       "    </tr>\n",
       "    <tr>\n",
       "      <th>4</th>\n",
       "      <td>5.0</td>\n",
       "      <td>30-06-2013</td>\n",
       "      <td>31.4</td>\n",
       "      <td>21.9</td>\n",
       "      <td>56.174095</td>\n",
       "      <td>90.155128</td>\n",
       "      <td>29.113934</td>\n",
       "      <td>23.486480</td>\n",
       "      <td>5.735004</td>\n",
       "      <td>107.965535</td>\n",
       "      <td>...</td>\n",
       "      <td>0.0</td>\n",
       "      <td>0.0</td>\n",
       "      <td>0.0</td>\n",
       "      <td>37.5507</td>\n",
       "      <td>127.135</td>\n",
       "      <td>35.0380</td>\n",
       "      <td>0.5055</td>\n",
       "      <td>5859.552246</td>\n",
       "      <td>31.2</td>\n",
       "      <td>22.5</td>\n",
       "    </tr>\n",
       "  </tbody>\n",
       "</table>\n",
       "<p>5 rows × 25 columns</p>\n",
       "</div>"
      ],
      "text/plain": [
       "   station        Date  Present_Tmax  Present_Tmin  LDAPS_RHmin  LDAPS_RHmax  \\\n",
       "0      1.0  30-06-2013          28.7          21.4    58.255688    91.116364   \n",
       "1      2.0  30-06-2013          31.9          21.6    52.263397    90.604721   \n",
       "2      3.0  30-06-2013          31.6          23.3    48.690479    83.973587   \n",
       "3      4.0  30-06-2013          32.0          23.4    58.239788    96.483688   \n",
       "4      5.0  30-06-2013          31.4          21.9    56.174095    90.155128   \n",
       "\n",
       "   LDAPS_Tmax_lapse  LDAPS_Tmin_lapse  LDAPS_WS    LDAPS_LH  ...  LDAPS_PPT2  \\\n",
       "0         28.074101         23.006936  6.818887   69.451805  ...         0.0   \n",
       "1         29.850689         24.035009  5.691890   51.937448  ...         0.0   \n",
       "2         30.091292         24.565633  6.138224   20.573050  ...         0.0   \n",
       "3         29.704629         23.326177  5.650050   65.727144  ...         0.0   \n",
       "4         29.113934         23.486480  5.735004  107.965535  ...         0.0   \n",
       "\n",
       "   LDAPS_PPT3  LDAPS_PPT4      lat      lon       DEM   Slope  \\\n",
       "0         0.0         0.0  37.6046  126.991  212.3350  2.7850   \n",
       "1         0.0         0.0  37.6046  127.032   44.7624  0.5141   \n",
       "2         0.0         0.0  37.5776  127.058   33.3068  0.2661   \n",
       "3         0.0         0.0  37.6450  127.022   45.7160  2.5348   \n",
       "4         0.0         0.0  37.5507  127.135   35.0380  0.5055   \n",
       "\n",
       "   Solar radiation  Next_Tmax  Next_Tmin  \n",
       "0      5992.895996       29.1       21.2  \n",
       "1      5869.312500       30.5       22.5  \n",
       "2      5863.555664       31.1       23.9  \n",
       "3      5856.964844       31.7       24.3  \n",
       "4      5859.552246       31.2       22.5  \n",
       "\n",
       "[5 rows x 25 columns]"
      ]
     },
     "execution_count": 2,
     "metadata": {},
     "output_type": "execute_result"
    }
   ],
   "source": [
    "data=pd.read_csv('https://raw.githubusercontent.com/dsrscientist/Dataset2/main/temperature.csv')\n",
    "data.head()"
   ]
  },
  {
   "cell_type": "code",
   "execution_count": 3,
   "metadata": {},
   "outputs": [
    {
     "data": {
      "text/plain": [
       "(7752, 25)"
      ]
     },
     "execution_count": 3,
     "metadata": {},
     "output_type": "execute_result"
    }
   ],
   "source": [
    "data.shape"
   ]
  },
  {
   "cell_type": "code",
   "execution_count": 4,
   "metadata": {},
   "outputs": [
    {
     "name": "stdout",
     "output_type": "stream",
     "text": [
      "<class 'pandas.core.frame.DataFrame'>\n",
      "RangeIndex: 7752 entries, 0 to 7751\n",
      "Data columns (total 25 columns):\n",
      " #   Column            Non-Null Count  Dtype  \n",
      "---  ------            --------------  -----  \n",
      " 0   station           7750 non-null   float64\n",
      " 1   Date              7750 non-null   object \n",
      " 2   Present_Tmax      7682 non-null   float64\n",
      " 3   Present_Tmin      7682 non-null   float64\n",
      " 4   LDAPS_RHmin       7677 non-null   float64\n",
      " 5   LDAPS_RHmax       7677 non-null   float64\n",
      " 6   LDAPS_Tmax_lapse  7677 non-null   float64\n",
      " 7   LDAPS_Tmin_lapse  7677 non-null   float64\n",
      " 8   LDAPS_WS          7677 non-null   float64\n",
      " 9   LDAPS_LH          7677 non-null   float64\n",
      " 10  LDAPS_CC1         7677 non-null   float64\n",
      " 11  LDAPS_CC2         7677 non-null   float64\n",
      " 12  LDAPS_CC3         7677 non-null   float64\n",
      " 13  LDAPS_CC4         7677 non-null   float64\n",
      " 14  LDAPS_PPT1        7677 non-null   float64\n",
      " 15  LDAPS_PPT2        7677 non-null   float64\n",
      " 16  LDAPS_PPT3        7677 non-null   float64\n",
      " 17  LDAPS_PPT4        7677 non-null   float64\n",
      " 18  lat               7752 non-null   float64\n",
      " 19  lon               7752 non-null   float64\n",
      " 20  DEM               7752 non-null   float64\n",
      " 21  Slope             7752 non-null   float64\n",
      " 22  Solar radiation   7752 non-null   float64\n",
      " 23  Next_Tmax         7725 non-null   float64\n",
      " 24  Next_Tmin         7725 non-null   float64\n",
      "dtypes: float64(24), object(1)\n",
      "memory usage: 1.5+ MB\n"
     ]
    }
   ],
   "source": [
    "data.info()"
   ]
  },
  {
   "cell_type": "markdown",
   "metadata": {},
   "source": [
    "### Handling the Null Values"
   ]
  },
  {
   "cell_type": "code",
   "execution_count": null,
   "metadata": {},
   "outputs": [],
   "source": []
  },
  {
   "cell_type": "code",
   "execution_count": null,
   "metadata": {},
   "outputs": [],
   "source": []
  },
  {
   "cell_type": "code",
   "execution_count": null,
   "metadata": {},
   "outputs": [],
   "source": []
  },
  {
   "cell_type": "code",
   "execution_count": 5,
   "metadata": {},
   "outputs": [
    {
     "data": {
      "text/plain": [
       "station              2\n",
       "Date                 2\n",
       "Present_Tmax        70\n",
       "Present_Tmin        70\n",
       "LDAPS_RHmin         75\n",
       "LDAPS_RHmax         75\n",
       "LDAPS_Tmax_lapse    75\n",
       "LDAPS_Tmin_lapse    75\n",
       "LDAPS_WS            75\n",
       "LDAPS_LH            75\n",
       "LDAPS_CC1           75\n",
       "LDAPS_CC2           75\n",
       "LDAPS_CC3           75\n",
       "LDAPS_CC4           75\n",
       "LDAPS_PPT1          75\n",
       "LDAPS_PPT2          75\n",
       "LDAPS_PPT3          75\n",
       "LDAPS_PPT4          75\n",
       "lat                  0\n",
       "lon                  0\n",
       "DEM                  0\n",
       "Slope                0\n",
       "Solar radiation      0\n",
       "Next_Tmax           27\n",
       "Next_Tmin           27\n",
       "dtype: int64"
      ]
     },
     "execution_count": 5,
     "metadata": {},
     "output_type": "execute_result"
    }
   ],
   "source": [
    "data.isnull().sum()"
   ]
  },
  {
   "cell_type": "code",
   "execution_count": 6,
   "metadata": {},
   "outputs": [
    {
     "name": "stderr",
     "output_type": "stream",
     "text": [
      "C:\\Users\\RitikaGugu\\Anaconda3\\lib\\site-packages\\seaborn\\distributions.py:2551: FutureWarning: `distplot` is a deprecated function and will be removed in a future version. Please adapt your code to use either `displot` (a figure-level function with similar flexibility) or `histplot` (an axes-level function for histograms).\n",
      "  warnings.warn(msg, FutureWarning)\n"
     ]
    },
    {
     "data": {
      "text/plain": [
       "<AxesSubplot:xlabel='station', ylabel='Density'>"
      ]
     },
     "execution_count": 6,
     "metadata": {},
     "output_type": "execute_result"
    },
    {
     "data": {
      "image/png": "[encoded data removed]",
      "text/plain": [
       "<Figure size 432x288 with 1 Axes>"
      ]
     },
     "metadata": {
      "needs_background": "light"
     },
     "output_type": "display_data"
    }
   ],
   "source": [
    "import seaborn as sns\n",
    "import matplotlib.pyplot as plt\n",
    "\n",
    "sns.distplot(data['station'])"
   ]
  },
  {
   "cell_type": "code",
   "execution_count": 7,
   "metadata": {},
   "outputs": [
    {
     "name": "stderr",
     "output_type": "stream",
     "text": [
      "C:\\Users\\RitikaGugu\\Anaconda3\\lib\\site-packages\\seaborn\\distributions.py:2551: FutureWarning: `distplot` is a deprecated function and will be removed in a future version. Please adapt your code to use either `displot` (a figure-level function with similar flexibility) or `histplot` (an axes-level function for histograms).\n",
      "  warnings.warn(msg, FutureWarning)\n"
     ]
    },
    {
     "data": {
      "text/plain": [
       "<AxesSubplot:xlabel='Present_Tmax', ylabel='Density'>"
      ]
     },
     "execution_count": 7,
     "metadata": {},
     "output_type": "execute_result"
    },
    {
     "data": {
      "image/png": "[encoded data removed]",
      "text/plain": [
       "<Figure size 432x288 with 1 Axes>"
      ]
     },
     "metadata": {
      "needs_background": "light"
     },
     "output_type": "display_data"
    }
   ],
   "source": [
    "sns.distplot(data['Present_Tmax'])"
   ]
  },
  {
   "cell_type": "code",
   "execution_count": 8,
   "metadata": {},
   "outputs": [
    {
     "name": "stderr",
     "output_type": "stream",
     "text": [
      "C:\\Users\\RitikaGugu\\Anaconda3\\lib\\site-packages\\seaborn\\distributions.py:2551: FutureWarning: `distplot` is a deprecated function and will be removed in a future version. Please adapt your code to use either `displot` (a figure-level function with similar flexibility) or `histplot` (an axes-level function for histograms).\n",
      "  warnings.warn(msg, FutureWarning)\n"
     ]
    },
    {
     "data": {
      "text/plain": [
       "<AxesSubplot:xlabel='Present_Tmin', ylabel='Density'>"
      ]
     },
     "execution_count": 8,
     "metadata": {},
     "output_type": "execute_result"
    },
    {
     "data": {
      "image/png": "[encoded data removed]",
      "text/plain": [
       "<Figure size 432x288 with 1 Axes>"
      ]
     },
     "metadata": {
      "needs_background": "light"
     },
     "output_type": "display_data"
    }
   ],
   "source": [
    "sns.distplot(data['Present_Tmin'])"
   ]
  },
  {
   "cell_type": "code",
   "execution_count": 9,
   "metadata": {},
   "outputs": [
    {
     "name": "stderr",
     "output_type": "stream",
     "text": [
      "C:\\Users\\RitikaGugu\\Anaconda3\\lib\\site-packages\\seaborn\\distributions.py:2551: FutureWarning: `distplot` is a deprecated function and will be removed in a future version. Please adapt your code to use either `displot` (a figure-level function with similar flexibility) or `histplot` (an axes-level function for histograms).\n",
      "  warnings.warn(msg, FutureWarning)\n"
     ]
    },
    {
     "data": {
      "text/plain": [
       "<AxesSubplot:xlabel='LDAPS_RHmin', ylabel='Density'>"
      ]
     },
     "execution_count": 9,
     "metadata": {},
     "output_type": "execute_result"
    },
    {
     "data": {
      "image/png": "[encoded data removed]",
      "text/plain": [
       "<Figure size 432x288 with 1 Axes>"
      ]
     },
     "metadata": {
      "needs_background": "light"
     },
     "output_type": "display_data"
    }
   ],
   "source": [
    "sns.distplot(data['LDAPS_RHmin'])"
   ]
  },
  {
   "cell_type": "code",
   "execution_count": 10,
   "metadata": {},
   "outputs": [
    {
     "name": "stderr",
     "output_type": "stream",
     "text": [
      "C:\\Users\\RitikaGugu\\Anaconda3\\lib\\site-packages\\seaborn\\distributions.py:2551: FutureWarning: `distplot` is a deprecated function and will be removed in a future version. Please adapt your code to use either `displot` (a figure-level function with similar flexibility) or `histplot` (an axes-level function for histograms).\n",
      "  warnings.warn(msg, FutureWarning)\n"
     ]
    },
    {
     "data": {
      "text/plain": [
       "<AxesSubplot:xlabel='LDAPS_RHmax', ylabel='Density'>"
      ]
     },
     "execution_count": 10,
     "metadata": {},
     "output_type": "execute_result"
    },
    {
     "data": {
      "image/png": "[encoded data removed]",
      "text/plain": [
       "<Figure size 432x288 with 1 Axes>"
      ]
     },
     "metadata": {
      "needs_background": "light"
     },
     "output_type": "display_data"
    }
   ],
   "source": [
    "sns.distplot(data['LDAPS_RHmax'])"
   ]
  },
  {
   "cell_type": "code",
   "execution_count": 11,
   "metadata": {},
   "outputs": [
    {
     "name": "stderr",
     "output_type": "stream",
     "text": [
      "C:\\Users\\RitikaGugu\\Anaconda3\\lib\\site-packages\\seaborn\\distributions.py:2551: FutureWarning: `distplot` is a deprecated function and will be removed in a future version. Please adapt your code to use either `displot` (a figure-level function with similar flexibility) or `histplot` (an axes-level function for histograms).\n",
      "  warnings.warn(msg, FutureWarning)\n"
     ]
    },
    {
     "data": {
      "text/plain": [
       "<AxesSubplot:xlabel='LDAPS_Tmax_lapse', ylabel='Density'>"
      ]
     },
     "execution_count": 11,
     "metadata": {},
     "output_type": "execute_result"
    },
    {
     "data": {
      "image/png": "[encoded data removed]",
      "text/plain": [
       "<Figure size 432x288 with 1 Axes>"
      ]
     },
     "metadata": {
      "needs_background": "light"
     },
     "output_type": "display_data"
    }
   ],
   "source": [
    "sns.distplot(data['LDAPS_Tmax_lapse'])"
   ]
  },
  {
   "cell_type": "code",
   "execution_count": 12,
   "metadata": {},
   "outputs": [
    {
     "name": "stderr",
     "output_type": "stream",
     "text": [
      "C:\\Users\\RitikaGugu\\Anaconda3\\lib\\site-packages\\seaborn\\distributions.py:2551: FutureWarning: `distplot` is a deprecated function and will be removed in a future version. Please adapt your code to use either `displot` (a figure-level function with similar flexibility) or `histplot` (an axes-level function for histograms).\n",
      "  warnings.warn(msg, FutureWarning)\n"
     ]
    },
    {
     "data": {
      "text/plain": [
       "<AxesSubplot:xlabel='LDAPS_Tmin_lapse', ylabel='Density'>"
      ]
     },
     "execution_count": 12,
     "metadata": {},
     "output_type": "execute_result"
    },
    {
     "data": {
      "image/png": "[encoded data removed]",
      "text/plain": [
       "<Figure size 432x288 with 1 Axes>"
      ]
     },
     "metadata": {
      "needs_background": "light"
     },
     "output_type": "display_data"
    }
   ],
   "source": [
    "sns.distplot(data['LDAPS_Tmin_lapse'])"
   ]
  },
  {
   "cell_type": "code",
   "execution_count": 13,
   "metadata": {},
   "outputs": [
    {
     "name": "stderr",
     "output_type": "stream",
     "text": [
      "C:\\Users\\RitikaGugu\\Anaconda3\\lib\\site-packages\\seaborn\\distributions.py:2551: FutureWarning: `distplot` is a deprecated function and will be removed in a future version. Please adapt your code to use either `displot` (a figure-level function with similar flexibility) or `histplot` (an axes-level function for histograms).\n",
      "  warnings.warn(msg, FutureWarning)\n"
     ]
    },
    {
     "data": {
      "text/plain": [
       "<AxesSubplot:xlabel='LDAPS_WS', ylabel='Density'>"
      ]
     },
     "execution_count": 13,
     "metadata": {},
     "output_type": "execute_result"
    },
    {
     "data": {
      "image/png": "[encoded data removed]",
      "text/plain": [
       "<Figure size 432x288 with 1 Axes>"
      ]
     },
     "metadata": {
      "needs_background": "light"
     },
     "output_type": "display_data"
    }
   ],
   "source": [
    "sns.distplot(data['LDAPS_WS'])"
   ]
  },
  {
   "cell_type": "code",
   "execution_count": 14,
   "metadata": {},
   "outputs": [
    {
     "name": "stderr",
     "output_type": "stream",
     "text": [
      "C:\\Users\\RitikaGugu\\Anaconda3\\lib\\site-packages\\seaborn\\distributions.py:2551: FutureWarning: `distplot` is a deprecated function and will be removed in a future version. Please adapt your code to use either `displot` (a figure-level function with similar flexibility) or `histplot` (an axes-level function for histograms).\n",
      "  warnings.warn(msg, FutureWarning)\n"
     ]
    },
    {
     "data": {
      "text/plain": [
       "<AxesSubplot:xlabel='LDAPS_LH', ylabel='Density'>"
      ]
     },
     "execution_count": 14,
     "metadata": {},
     "output_type": "execute_result"
    },
    {
     "data": {
      "image/png": "[encoded data removed]",
      "text/plain": [
       "<Figure size 432x288 with 1 Axes>"
      ]
     },
     "metadata": {
      "needs_background": "light"
     },
     "output_type": "display_data"
    }
   ],
   "source": [
    "sns.distplot(data['LDAPS_LH'])"
   ]
  },
  {
   "cell_type": "code",
   "execution_count": 15,
   "metadata": {},
   "outputs": [
    {
     "name": "stderr",
     "output_type": "stream",
     "text": [
      "C:\\Users\\RitikaGugu\\Anaconda3\\lib\\site-packages\\seaborn\\distributions.py:2551: FutureWarning: `distplot` is a deprecated function and will be removed in a future version. Please adapt your code to use either `displot` (a figure-level function with similar flexibility) or `histplot` (an axes-level function for histograms).\n",
      "  warnings.warn(msg, FutureWarning)\n"
     ]
    },
    {
     "data": {
      "text/plain": [
       "<AxesSubplot:xlabel='LDAPS_CC1', ylabel='Density'>"
      ]
     },
     "execution_count": 15,
     "metadata": {},
     "output_type": "execute_result"
    },
    {
     "data": {
      "image/png": "[encoded data removed]",
      "text/plain": [
       "<Figure size 432x288 with 1 Axes>"
      ]
     },
     "metadata": {
      "needs_background": "light"
     },
     "output_type": "display_data"
    }
   ],
   "source": [
    "sns.distplot(data['LDAPS_CC1'])"
   ]
  },
  {
   "cell_type": "code",
   "execution_count": 16,
   "metadata": {},
   "outputs": [
    {
     "name": "stderr",
     "output_type": "stream",
     "text": [
      "C:\\Users\\RitikaGugu\\Anaconda3\\lib\\site-packages\\seaborn\\distributions.py:2551: FutureWarning: `distplot` is a deprecated function and will be removed in a future version. Please adapt your code to use either `displot` (a figure-level function with similar flexibility) or `histplot` (an axes-level function for histograms).\n",
      "  warnings.warn(msg, FutureWarning)\n"
     ]
    },
    {
     "data": {
      "text/plain": [
       "<AxesSubplot:xlabel='LDAPS_CC2', ylabel='Density'>"
      ]
     },
     "execution_count": 16,
     "metadata": {},
     "output_type": "execute_result"
    },
    {
     "data": {
      "image/png": "[encoded data removed]",
      "text/plain": [
       "<Figure size 432x288 with 1 Axes>"
      ]
     },
     "metadata": {
      "needs_background": "light"
     },
     "output_type": "display_data"
    }
   ],
   "source": [
    "sns.distplot(data['LDAPS_CC2'])"
   ]
  },
  {
   "cell_type": "code",
   "execution_count": 17,
   "metadata": {},
   "outputs": [
    {
     "name": "stderr",
     "output_type": "stream",
     "text": [
      "C:\\Users\\RitikaGugu\\Anaconda3\\lib\\site-packages\\seaborn\\distributions.py:2551: FutureWarning: `distplot` is a deprecated function and will be removed in a future version. Please adapt your code to use either `displot` (a figure-level function with similar flexibility) or `histplot` (an axes-level function for histograms).\n",
      "  warnings.warn(msg, FutureWarning)\n"
     ]
    },
    {
     "data": {
      "text/plain": [
       "<AxesSubplot:xlabel='LDAPS_CC3', ylabel='Density'>"
      ]
     },
     "execution_count": 17,
     "metadata": {},
     "output_type": "execute_result"
    },
    {
     "data": {
      "image/png": "[encoded data removed]",
      "text/plain": [
       "<Figure size 432x288 with 1 Axes>"
      ]
     },
     "metadata": {
      "needs_background": "light"
     },
     "output_type": "display_data"
    }
   ],
   "source": [
    "sns.distplot(data['LDAPS_CC3'])"
   ]
  },
  {
   "cell_type": "code",
   "execution_count": 18,
   "metadata": {},
   "outputs": [
    {
     "name": "stderr",
     "output_type": "stream",
     "text": [
      "C:\\Users\\RitikaGugu\\Anaconda3\\lib\\site-packages\\seaborn\\distributions.py:2551: FutureWarning: `distplot` is a deprecated function and will be removed in a future version. Please adapt your code to use either `displot` (a figure-level function with similar flexibility) or `histplot` (an axes-level function for histograms).\n",
      "  warnings.warn(msg, FutureWarning)\n"
     ]
    },
    {
     "data": {
      "text/plain": [
       "<AxesSubplot:xlabel='LDAPS_CC4', ylabel='Density'>"
      ]
     },
     "execution_count": 18,
     "metadata": {},
     "output_type": "execute_result"
    },
    {
     "data": {
      "image/png": "[encoded data removed]",
      "text/plain": [
       "<Figure size 432x288 with 1 Axes>"
      ]
     },
     "metadata": {
      "needs_background": "light"
     },
     "output_type": "display_data"
    }
   ],
   "source": [
    "sns.distplot(data['LDAPS_CC4'])"
   ]
  },
  {
   "cell_type": "code",
   "execution_count": 19,
   "metadata": {},
   "outputs": [
    {
     "name": "stderr",
     "output_type": "stream",
     "text": [
      "C:\\Users\\RitikaGugu\\Anaconda3\\lib\\site-packages\\seaborn\\distributions.py:2551: FutureWarning: `distplot` is a deprecated function and will be removed in a future version. Please adapt your code to use either `displot` (a figure-level function with similar flexibility) or `histplot` (an axes-level function for histograms).\n",
      "  warnings.warn(msg, FutureWarning)\n"
     ]
    },
    {
     "data": {
      "text/plain": [
       "<AxesSubplot:xlabel='LDAPS_PPT1', ylabel='Density'>"
      ]
     },
     "execution_count": 19,
     "metadata": {},
     "output_type": "execute_result"
    },
    {
     "data": {
      "image/png": "[encoded data removed]",
      "text/plain": [
       "<Figure size 432x288 with 1 Axes>"
      ]
     },
     "metadata": {
      "needs_background": "light"
     },
     "output_type": "display_data"
    }
   ],
   "source": [
    "sns.distplot(data['LDAPS_PPT1'])"
   ]
  },
  {
   "cell_type": "code",
   "execution_count": 20,
   "metadata": {},
   "outputs": [
    {
     "name": "stderr",
     "output_type": "stream",
     "text": [
      "C:\\Users\\RitikaGugu\\Anaconda3\\lib\\site-packages\\seaborn\\distributions.py:2551: FutureWarning: `distplot` is a deprecated function and will be removed in a future version. Please adapt your code to use either `displot` (a figure-level function with similar flexibility) or `histplot` (an axes-level function for histograms).\n",
      "  warnings.warn(msg, FutureWarning)\n"
     ]
    },
    {
     "data": {
      "text/plain": [
       "<AxesSubplot:xlabel='LDAPS_PPT2', ylabel='Density'>"
      ]
     },
     "execution_count": 20,
     "metadata": {},
     "output_type": "execute_result"
    },
    {
     "data": {
      "image/png": "[encoded data removed]",
      "text/plain": [
       "<Figure size 432x288 with 1 Axes>"
      ]
     },
     "metadata": {
      "needs_background": "light"
     },
     "output_type": "display_data"
    }
   ],
   "source": [
    "sns.distplot(data['LDAPS_PPT2'])"
   ]
  },
  {
   "cell_type": "code",
   "execution_count": 21,
   "metadata": {},
   "outputs": [
    {
     "name": "stderr",
     "output_type": "stream",
     "text": [
      "C:\\Users\\RitikaGugu\\Anaconda3\\lib\\site-packages\\seaborn\\distributions.py:2551: FutureWarning: `distplot` is a deprecated function and will be removed in a future version. Please adapt your code to use either `displot` (a figure-level function with similar flexibility) or `histplot` (an axes-level function for histograms).\n",
      "  warnings.warn(msg, FutureWarning)\n"
     ]
    },
    {
     "data": {
      "text/plain": [
       "<AxesSubplot:xlabel='LDAPS_PPT3', ylabel='Density'>"
      ]
     },
     "execution_count": 21,
     "metadata": {},
     "output_type": "execute_result"
    },
    {
     "data": {
      "image/png": "[encoded data removed]",
      "text/plain": [
       "<Figure size 432x288 with 1 Axes>"
      ]
     },
     "metadata": {
      "needs_background": "light"
     },
     "output_type": "display_data"
    }
   ],
   "source": [
    "sns.distplot(data['LDAPS_PPT3'])"
   ]
  },
  {
   "cell_type": "code",
   "execution_count": 22,
   "metadata": {},
   "outputs": [
    {
     "name": "stderr",
     "output_type": "stream",
     "text": [
      "C:\\Users\\RitikaGugu\\Anaconda3\\lib\\site-packages\\seaborn\\distributions.py:2551: FutureWarning: `distplot` is a deprecated function and will be removed in a future version. Please adapt your code to use either `displot` (a figure-level function with similar flexibility) or `histplot` (an axes-level function for histograms).\n",
      "  warnings.warn(msg, FutureWarning)\n"
     ]
    },
    {
     "data": {
      "text/plain": [
       "<AxesSubplot:xlabel='LDAPS_PPT4', ylabel='Density'>"
      ]
     },
     "execution_count": 22,
     "metadata": {},
     "output_type": "execute_result"
    },
    {
     "data": {
      "image/png": "[encoded data removed]",
      "text/plain": [
       "<Figure size 432x288 with 1 Axes>"
      ]
     },
     "metadata": {
      "needs_background": "light"
     },
     "output_type": "display_data"
    }
   ],
   "source": [
    "sns.distplot(data['LDAPS_PPT4'])"
   ]
  },
  {
   "cell_type": "code",
   "execution_count": 23,
   "metadata": {},
   "outputs": [
    {
     "name": "stderr",
     "output_type": "stream",
     "text": [
      "C:\\Users\\RitikaGugu\\Anaconda3\\lib\\site-packages\\seaborn\\distributions.py:2551: FutureWarning: `distplot` is a deprecated function and will be removed in a future version. Please adapt your code to use either `displot` (a figure-level function with similar flexibility) or `histplot` (an axes-level function for histograms).\n",
      "  warnings.warn(msg, FutureWarning)\n"
     ]
    },
    {
     "data": {
      "text/plain": [
       "<AxesSubplot:xlabel='Next_Tmax', ylabel='Density'>"
      ]
     },
     "execution_count": 23,
     "metadata": {},
     "output_type": "execute_result"
    },
    {
     "data": {
      "image/png": "[encoded data removed]",
      "text/plain": [
       "<Figure size 432x288 with 1 Axes>"
      ]
     },
     "metadata": {
      "needs_background": "light"
     },
     "output_type": "display_data"
    }
   ],
   "source": [
    "sns.distplot(data['Next_Tmax'])"
   ]
  },
  {
   "cell_type": "code",
   "execution_count": 24,
   "metadata": {},
   "outputs": [
    {
     "name": "stderr",
     "output_type": "stream",
     "text": [
      "C:\\Users\\RitikaGugu\\Anaconda3\\lib\\site-packages\\seaborn\\distributions.py:2551: FutureWarning: `distplot` is a deprecated function and will be removed in a future version. Please adapt your code to use either `displot` (a figure-level function with similar flexibility) or `histplot` (an axes-level function for histograms).\n",
      "  warnings.warn(msg, FutureWarning)\n"
     ]
    },
    {
     "data": {
      "text/plain": [
       "<AxesSubplot:xlabel='Next_Tmin', ylabel='Density'>"
      ]
     },
     "execution_count": 24,
     "metadata": {},
     "output_type": "execute_result"
    },
    {
     "data": {
      "image/png": "[encoded data removed]",
      "text/plain": [
       "<Figure size 432x288 with 1 Axes>"
      ]
     },
     "metadata": {
      "needs_background": "light"
     },
     "output_type": "display_data"
    }
   ],
   "source": [
    "sns.distplot(data['Next_Tmin'])"
   ]
  },
  {
   "cell_type": "code",
   "execution_count": 25,
   "metadata": {},
   "outputs": [],
   "source": [
    "data['station'] = data['station'].fillna(data['station'].median())\n",
    "data['Present_Tmax'] = data['Present_Tmax'].fillna(data['Present_Tmax'].mean())\n",
    "data['Present_Tmin'] = data['Present_Tmin'].fillna(data['Present_Tmin'].mean())\n",
    "data['LDAPS_RHmin'] = data['LDAPS_RHmin'].fillna(data['LDAPS_RHmin'].mean())\n",
    "data['LDAPS_RHmax'] = data['LDAPS_RHmax'].fillna(data['LDAPS_RHmax'].median())\n",
    "data['LDAPS_Tmax_lapse'] = data['LDAPS_Tmax_lapse'].fillna(data['LDAPS_Tmax_lapse'].median())\n",
    "data['LDAPS_Tmin_lapse'] = data['LDAPS_Tmin_lapse'].fillna(data['LDAPS_Tmin_lapse'].mean())\n",
    "data['LDAPS_WS'] = data['LDAPS_WS'].fillna(data['LDAPS_WS'].mean())\n",
    "data['LDAPS_LH'] = data['LDAPS_LH'].fillna(data['LDAPS_LH'].mean())\n",
    "data['LDAPS_CC1'] = data['LDAPS_CC1'].fillna(data['LDAPS_CC1'].median())\n",
    "data['LDAPS_CC2'] = data['LDAPS_CC2'].fillna(data['LDAPS_CC2'].median())\n",
    "data['LDAPS_CC3'] = data['LDAPS_CC3'].fillna(data['LDAPS_CC3'].median())\n",
    "data['LDAPS_CC4'] = data['LDAPS_CC4'].fillna(data['LDAPS_CC4'].median())\n",
    "data['LDAPS_PPT1'] = data['LDAPS_PPT1'].fillna(data['LDAPS_PPT1'].median())\n",
    "data['LDAPS_PPT2'] = data['LDAPS_PPT2'].fillna(data['LDAPS_PPT2'].median())\n",
    "data['LDAPS_PPT3'] = data['LDAPS_PPT3'].fillna(data['LDAPS_PPT3'].median())\n",
    "data['LDAPS_PPT4'] = data['LDAPS_PPT4'].fillna(data['LDAPS_PPT4'].median())\n",
    "data['Next_Tmax'] = data['Next_Tmax'].fillna(data['Next_Tmax'].mean())\n",
    "data['Next_Tmin'] = data['Next_Tmin'].fillna(data['Next_Tmin'].mean())\n"
   ]
  },
  {
   "cell_type": "code",
   "execution_count": 29,
   "metadata": {},
   "outputs": [
    {
     "data": {
      "text/plain": [
       "0      2013-06-30\n",
       "1      2013-06-30\n",
       "2      2013-06-30\n",
       "3      2013-06-30\n",
       "4      2013-06-30\n",
       "          ...    \n",
       "7747   2017-08-30\n",
       "7748   2017-08-30\n",
       "7749   2017-08-30\n",
       "7750          NaT\n",
       "7751          NaT\n",
       "Name: Date, Length: 7752, dtype: datetime64[ns]"
      ]
     },
     "execution_count": 29,
     "metadata": {},
     "output_type": "execute_result"
    }
   ],
   "source": [
    "# Lets handle the the date column which is in object.\n",
    "data[\"Date\"]=pd.to_datetime(data[\"Date\"])\n",
    "data[\"Date\"]"
   ]
  },
  {
   "cell_type": "code",
   "execution_count": 30,
   "metadata": {},
   "outputs": [
    {
     "data": {
      "text/plain": [
       "0       2013.0\n",
       "1       2013.0\n",
       "2       2013.0\n",
       "3       2013.0\n",
       "4       2013.0\n",
       "         ...  \n",
       "7747    2017.0\n",
       "7748    2017.0\n",
       "7749    2017.0\n",
       "7750       NaN\n",
       "7751       NaN\n",
       "Name: Year, Length: 7752, dtype: float64"
      ]
     },
     "execution_count": 30,
     "metadata": {},
     "output_type": "execute_result"
    }
   ],
   "source": [
    "data[\"Year\"]=data[\"Date\"].dt.year\n",
    "data[\"Year\"]"
   ]
  },
  {
   "cell_type": "code",
   "execution_count": 31,
   "metadata": {},
   "outputs": [
    {
     "data": {
      "text/plain": [
       "0       6.0\n",
       "1       6.0\n",
       "2       6.0\n",
       "3       6.0\n",
       "4       6.0\n",
       "       ... \n",
       "7747    8.0\n",
       "7748    8.0\n",
       "7749    8.0\n",
       "7750    NaN\n",
       "7751    NaN\n",
       "Name: Month, Length: 7752, dtype: float64"
      ]
     },
     "execution_count": 31,
     "metadata": {},
     "output_type": "execute_result"
    }
   ],
   "source": [
    "data[\"Month\"]=data[\"Date\"].dt.month\n",
    "data[\"Month\"]"
   ]
  },
  {
   "cell_type": "code",
   "execution_count": 32,
   "metadata": {},
   "outputs": [
    {
     "data": {
      "text/plain": [
       "0       30.0\n",
       "1       30.0\n",
       "2       30.0\n",
       "3       30.0\n",
       "4       30.0\n",
       "        ... \n",
       "7747    30.0\n",
       "7748    30.0\n",
       "7749    30.0\n",
       "7750     NaN\n",
       "7751     NaN\n",
       "Name: Day, Length: 7752, dtype: float64"
      ]
     },
     "execution_count": 32,
     "metadata": {},
     "output_type": "execute_result"
    }
   ],
   "source": [
    "data[\"Day\"]=data[\"Date\"].dt.day\n",
    "data[\"Day\"]"
   ]
  },
  {
   "cell_type": "code",
   "execution_count": 33,
   "metadata": {},
   "outputs": [
    {
     "data": {
      "text/html": [
       "<div>\n",
       "<style scoped>\n",
       "    .dataframe tbody tr th:only-of-type {\n",
       "        vertical-align: middle;\n",
       "    }\n",
       "\n",
       "    .dataframe tbody tr th {\n",
       "        vertical-align: top;\n",
       "    }\n",
       "\n",
       "    .dataframe thead th {\n",
       "        text-align: right;\n",
       "    }\n",
       "</style>\n",
       "<table border=\"1\" class=\"dataframe\">\n",
       "  <thead>\n",
       "    <tr style=\"text-align: right;\">\n",
       "      <th></th>\n",
       "      <th>station</th>\n",
       "      <th>Date</th>\n",
       "      <th>Present_Tmax</th>\n",
       "      <th>Present_Tmin</th>\n",
       "      <th>LDAPS_RHmin</th>\n",
       "      <th>LDAPS_RHmax</th>\n",
       "      <th>LDAPS_Tmax_lapse</th>\n",
       "      <th>LDAPS_Tmin_lapse</th>\n",
       "      <th>LDAPS_WS</th>\n",
       "      <th>LDAPS_LH</th>\n",
       "      <th>...</th>\n",
       "      <th>lat</th>\n",
       "      <th>lon</th>\n",
       "      <th>DEM</th>\n",
       "      <th>Slope</th>\n",
       "      <th>Solar radiation</th>\n",
       "      <th>Next_Tmax</th>\n",
       "      <th>Next_Tmin</th>\n",
       "      <th>Year</th>\n",
       "      <th>Month</th>\n",
       "      <th>Day</th>\n",
       "    </tr>\n",
       "  </thead>\n",
       "  <tbody>\n",
       "    <tr>\n",
       "      <th>0</th>\n",
       "      <td>1.0</td>\n",
       "      <td>2013-06-30</td>\n",
       "      <td>28.7</td>\n",
       "      <td>21.4</td>\n",
       "      <td>58.255688</td>\n",
       "      <td>91.116364</td>\n",
       "      <td>28.074101</td>\n",
       "      <td>23.006936</td>\n",
       "      <td>6.818887</td>\n",
       "      <td>69.451805</td>\n",
       "      <td>...</td>\n",
       "      <td>37.6046</td>\n",
       "      <td>126.991</td>\n",
       "      <td>212.3350</td>\n",
       "      <td>2.7850</td>\n",
       "      <td>5992.895996</td>\n",
       "      <td>29.1</td>\n",
       "      <td>21.2</td>\n",
       "      <td>2013.0</td>\n",
       "      <td>6.0</td>\n",
       "      <td>30.0</td>\n",
       "    </tr>\n",
       "    <tr>\n",
       "      <th>1</th>\n",
       "      <td>2.0</td>\n",
       "      <td>2013-06-30</td>\n",
       "      <td>31.9</td>\n",
       "      <td>21.6</td>\n",
       "      <td>52.263397</td>\n",
       "      <td>90.604721</td>\n",
       "      <td>29.850689</td>\n",
       "      <td>24.035009</td>\n",
       "      <td>5.691890</td>\n",
       "      <td>51.937448</td>\n",
       "      <td>...</td>\n",
       "      <td>37.6046</td>\n",
       "      <td>127.032</td>\n",
       "      <td>44.7624</td>\n",
       "      <td>0.5141</td>\n",
       "      <td>5869.312500</td>\n",
       "      <td>30.5</td>\n",
       "      <td>22.5</td>\n",
       "      <td>2013.0</td>\n",
       "      <td>6.0</td>\n",
       "      <td>30.0</td>\n",
       "    </tr>\n",
       "    <tr>\n",
       "      <th>2</th>\n",
       "      <td>3.0</td>\n",
       "      <td>2013-06-30</td>\n",
       "      <td>31.6</td>\n",
       "      <td>23.3</td>\n",
       "      <td>48.690479</td>\n",
       "      <td>83.973587</td>\n",
       "      <td>30.091292</td>\n",
       "      <td>24.565633</td>\n",
       "      <td>6.138224</td>\n",
       "      <td>20.573050</td>\n",
       "      <td>...</td>\n",
       "      <td>37.5776</td>\n",
       "      <td>127.058</td>\n",
       "      <td>33.3068</td>\n",
       "      <td>0.2661</td>\n",
       "      <td>5863.555664</td>\n",
       "      <td>31.1</td>\n",
       "      <td>23.9</td>\n",
       "      <td>2013.0</td>\n",
       "      <td>6.0</td>\n",
       "      <td>30.0</td>\n",
       "    </tr>\n",
       "    <tr>\n",
       "      <th>3</th>\n",
       "      <td>4.0</td>\n",
       "      <td>2013-06-30</td>\n",
       "      <td>32.0</td>\n",
       "      <td>23.4</td>\n",
       "      <td>58.239788</td>\n",
       "      <td>96.483688</td>\n",
       "      <td>29.704629</td>\n",
       "      <td>23.326177</td>\n",
       "      <td>5.650050</td>\n",
       "      <td>65.727144</td>\n",
       "      <td>...</td>\n",
       "      <td>37.6450</td>\n",
       "      <td>127.022</td>\n",
       "      <td>45.7160</td>\n",
       "      <td>2.5348</td>\n",
       "      <td>5856.964844</td>\n",
       "      <td>31.7</td>\n",
       "      <td>24.3</td>\n",
       "      <td>2013.0</td>\n",
       "      <td>6.0</td>\n",
       "      <td>30.0</td>\n",
       "    </tr>\n",
       "    <tr>\n",
       "      <th>4</th>\n",
       "      <td>5.0</td>\n",
       "      <td>2013-06-30</td>\n",
       "      <td>31.4</td>\n",
       "      <td>21.9</td>\n",
       "      <td>56.174095</td>\n",
       "      <td>90.155128</td>\n",
       "      <td>29.113934</td>\n",
       "      <td>23.486480</td>\n",
       "      <td>5.735004</td>\n",
       "      <td>107.965535</td>\n",
       "      <td>...</td>\n",
       "      <td>37.5507</td>\n",
       "      <td>127.135</td>\n",
       "      <td>35.0380</td>\n",
       "      <td>0.5055</td>\n",
       "      <td>5859.552246</td>\n",
       "      <td>31.2</td>\n",
       "      <td>22.5</td>\n",
       "      <td>2013.0</td>\n",
       "      <td>6.0</td>\n",
       "      <td>30.0</td>\n",
       "    </tr>\n",
       "  </tbody>\n",
       "</table>\n",
       "<p>5 rows × 28 columns</p>\n",
       "</div>"
      ],
      "text/plain": [
       "   station       Date  Present_Tmax  Present_Tmin  LDAPS_RHmin  LDAPS_RHmax  \\\n",
       "0      1.0 2013-06-30          28.7          21.4    58.255688    91.116364   \n",
       "1      2.0 2013-06-30          31.9          21.6    52.263397    90.604721   \n",
       "2      3.0 2013-06-30          31.6          23.3    48.690479    83.973587   \n",
       "3      4.0 2013-06-30          32.0          23.4    58.239788    96.483688   \n",
       "4      5.0 2013-06-30          31.4          21.9    56.174095    90.155128   \n",
       "\n",
       "   LDAPS_Tmax_lapse  LDAPS_Tmin_lapse  LDAPS_WS    LDAPS_LH  ...      lat  \\\n",
       "0         28.074101         23.006936  6.818887   69.451805  ...  37.6046   \n",
       "1         29.850689         24.035009  5.691890   51.937448  ...  37.6046   \n",
       "2         30.091292         24.565633  6.138224   20.573050  ...  37.5776   \n",
       "3         29.704629         23.326177  5.650050   65.727144  ...  37.6450   \n",
       "4         29.113934         23.486480  5.735004  107.965535  ...  37.5507   \n",
       "\n",
       "       lon       DEM   Slope  Solar radiation  Next_Tmax  Next_Tmin    Year  \\\n",
       "0  126.991  212.3350  2.7850      5992.895996       29.1       21.2  2013.0   \n",
       "1  127.032   44.7624  0.5141      5869.312500       30.5       22.5  2013.0   \n",
       "2  127.058   33.3068  0.2661      5863.555664       31.1       23.9  2013.0   \n",
       "3  127.022   45.7160  2.5348      5856.964844       31.7       24.3  2013.0   \n",
       "4  127.135   35.0380  0.5055      5859.552246       31.2       22.5  2013.0   \n",
       "\n",
       "   Month   Day  \n",
       "0    6.0  30.0  \n",
       "1    6.0  30.0  \n",
       "2    6.0  30.0  \n",
       "3    6.0  30.0  \n",
       "4    6.0  30.0  \n",
       "\n",
       "[5 rows x 28 columns]"
      ]
     },
     "execution_count": 33,
     "metadata": {},
     "output_type": "execute_result"
    }
   ],
   "source": [
    "data.head()"
   ]
  },
  {
   "cell_type": "code",
   "execution_count": 34,
   "metadata": {},
   "outputs": [],
   "source": [
    "data.drop(\"Date\",axis=1,inplace=True)"
   ]
  },
  {
   "cell_type": "code",
   "execution_count": 35,
   "metadata": {},
   "outputs": [
    {
     "data": {
      "text/html": [
       "<div>\n",
       "<style scoped>\n",
       "    .dataframe tbody tr th:only-of-type {\n",
       "        vertical-align: middle;\n",
       "    }\n",
       "\n",
       "    .dataframe tbody tr th {\n",
       "        vertical-align: top;\n",
       "    }\n",
       "\n",
       "    .dataframe thead th {\n",
       "        text-align: right;\n",
       "    }\n",
       "</style>\n",
       "<table border=\"1\" class=\"dataframe\">\n",
       "  <thead>\n",
       "    <tr style=\"text-align: right;\">\n",
       "      <th></th>\n",
       "      <th>station</th>\n",
       "      <th>Present_Tmax</th>\n",
       "      <th>Present_Tmin</th>\n",
       "      <th>LDAPS_RHmin</th>\n",
       "      <th>LDAPS_RHmax</th>\n",
       "      <th>LDAPS_Tmax_lapse</th>\n",
       "      <th>LDAPS_Tmin_lapse</th>\n",
       "      <th>LDAPS_WS</th>\n",
       "      <th>LDAPS_LH</th>\n",
       "      <th>LDAPS_CC1</th>\n",
       "      <th>...</th>\n",
       "      <th>lat</th>\n",
       "      <th>lon</th>\n",
       "      <th>DEM</th>\n",
       "      <th>Slope</th>\n",
       "      <th>Solar radiation</th>\n",
       "      <th>Next_Tmax</th>\n",
       "      <th>Next_Tmin</th>\n",
       "      <th>Year</th>\n",
       "      <th>Month</th>\n",
       "      <th>Day</th>\n",
       "    </tr>\n",
       "  </thead>\n",
       "  <tbody>\n",
       "    <tr>\n",
       "      <th>0</th>\n",
       "      <td>1.0</td>\n",
       "      <td>28.7</td>\n",
       "      <td>21.4</td>\n",
       "      <td>58.255688</td>\n",
       "      <td>91.116364</td>\n",
       "      <td>28.074101</td>\n",
       "      <td>23.006936</td>\n",
       "      <td>6.818887</td>\n",
       "      <td>69.451805</td>\n",
       "      <td>0.233947</td>\n",
       "      <td>...</td>\n",
       "      <td>37.6046</td>\n",
       "      <td>126.991</td>\n",
       "      <td>212.3350</td>\n",
       "      <td>2.7850</td>\n",
       "      <td>5992.895996</td>\n",
       "      <td>29.1</td>\n",
       "      <td>21.2</td>\n",
       "      <td>2013.0</td>\n",
       "      <td>6.0</td>\n",
       "      <td>30.0</td>\n",
       "    </tr>\n",
       "    <tr>\n",
       "      <th>1</th>\n",
       "      <td>2.0</td>\n",
       "      <td>31.9</td>\n",
       "      <td>21.6</td>\n",
       "      <td>52.263397</td>\n",
       "      <td>90.604721</td>\n",
       "      <td>29.850689</td>\n",
       "      <td>24.035009</td>\n",
       "      <td>5.691890</td>\n",
       "      <td>51.937448</td>\n",
       "      <td>0.225508</td>\n",
       "      <td>...</td>\n",
       "      <td>37.6046</td>\n",
       "      <td>127.032</td>\n",
       "      <td>44.7624</td>\n",
       "      <td>0.5141</td>\n",
       "      <td>5869.312500</td>\n",
       "      <td>30.5</td>\n",
       "      <td>22.5</td>\n",
       "      <td>2013.0</td>\n",
       "      <td>6.0</td>\n",
       "      <td>30.0</td>\n",
       "    </tr>\n",
       "    <tr>\n",
       "      <th>2</th>\n",
       "      <td>3.0</td>\n",
       "      <td>31.6</td>\n",
       "      <td>23.3</td>\n",
       "      <td>48.690479</td>\n",
       "      <td>83.973587</td>\n",
       "      <td>30.091292</td>\n",
       "      <td>24.565633</td>\n",
       "      <td>6.138224</td>\n",
       "      <td>20.573050</td>\n",
       "      <td>0.209344</td>\n",
       "      <td>...</td>\n",
       "      <td>37.5776</td>\n",
       "      <td>127.058</td>\n",
       "      <td>33.3068</td>\n",
       "      <td>0.2661</td>\n",
       "      <td>5863.555664</td>\n",
       "      <td>31.1</td>\n",
       "      <td>23.9</td>\n",
       "      <td>2013.0</td>\n",
       "      <td>6.0</td>\n",
       "      <td>30.0</td>\n",
       "    </tr>\n",
       "    <tr>\n",
       "      <th>3</th>\n",
       "      <td>4.0</td>\n",
       "      <td>32.0</td>\n",
       "      <td>23.4</td>\n",
       "      <td>58.239788</td>\n",
       "      <td>96.483688</td>\n",
       "      <td>29.704629</td>\n",
       "      <td>23.326177</td>\n",
       "      <td>5.650050</td>\n",
       "      <td>65.727144</td>\n",
       "      <td>0.216372</td>\n",
       "      <td>...</td>\n",
       "      <td>37.6450</td>\n",
       "      <td>127.022</td>\n",
       "      <td>45.7160</td>\n",
       "      <td>2.5348</td>\n",
       "      <td>5856.964844</td>\n",
       "      <td>31.7</td>\n",
       "      <td>24.3</td>\n",
       "      <td>2013.0</td>\n",
       "      <td>6.0</td>\n",
       "      <td>30.0</td>\n",
       "    </tr>\n",
       "    <tr>\n",
       "      <th>4</th>\n",
       "      <td>5.0</td>\n",
       "      <td>31.4</td>\n",
       "      <td>21.9</td>\n",
       "      <td>56.174095</td>\n",
       "      <td>90.155128</td>\n",
       "      <td>29.113934</td>\n",
       "      <td>23.486480</td>\n",
       "      <td>5.735004</td>\n",
       "      <td>107.965535</td>\n",
       "      <td>0.151407</td>\n",
       "      <td>...</td>\n",
       "      <td>37.5507</td>\n",
       "      <td>127.135</td>\n",
       "      <td>35.0380</td>\n",
       "      <td>0.5055</td>\n",
       "      <td>5859.552246</td>\n",
       "      <td>31.2</td>\n",
       "      <td>22.5</td>\n",
       "      <td>2013.0</td>\n",
       "      <td>6.0</td>\n",
       "      <td>30.0</td>\n",
       "    </tr>\n",
       "  </tbody>\n",
       "</table>\n",
       "<p>5 rows × 27 columns</p>\n",
       "</div>"
      ],
      "text/plain": [
       "   station  Present_Tmax  Present_Tmin  LDAPS_RHmin  LDAPS_RHmax  \\\n",
       "0      1.0          28.7          21.4    58.255688    91.116364   \n",
       "1      2.0          31.9          21.6    52.263397    90.604721   \n",
       "2      3.0          31.6          23.3    48.690479    83.973587   \n",
       "3      4.0          32.0          23.4    58.239788    96.483688   \n",
       "4      5.0          31.4          21.9    56.174095    90.155128   \n",
       "\n",
       "   LDAPS_Tmax_lapse  LDAPS_Tmin_lapse  LDAPS_WS    LDAPS_LH  LDAPS_CC1  ...  \\\n",
       "0         28.074101         23.006936  6.818887   69.451805   0.233947  ...   \n",
       "1         29.850689         24.035009  5.691890   51.937448   0.225508  ...   \n",
       "2         30.091292         24.565633  6.138224   20.573050   0.209344  ...   \n",
       "3         29.704629         23.326177  5.650050   65.727144   0.216372  ...   \n",
       "4         29.113934         23.486480  5.735004  107.965535   0.151407  ...   \n",
       "\n",
       "       lat      lon       DEM   Slope  Solar radiation  Next_Tmax  Next_Tmin  \\\n",
       "0  37.6046  126.991  212.3350  2.7850      5992.895996       29.1       21.2   \n",
       "1  37.6046  127.032   44.7624  0.5141      5869.312500       30.5       22.5   \n",
       "2  37.5776  127.058   33.3068  0.2661      5863.555664       31.1       23.9   \n",
       "3  37.6450  127.022   45.7160  2.5348      5856.964844       31.7       24.3   \n",
       "4  37.5507  127.135   35.0380  0.5055      5859.552246       31.2       22.5   \n",
       "\n",
       "     Year  Month   Day  \n",
       "0  2013.0    6.0  30.0  \n",
       "1  2013.0    6.0  30.0  \n",
       "2  2013.0    6.0  30.0  \n",
       "3  2013.0    6.0  30.0  \n",
       "4  2013.0    6.0  30.0  \n",
       "\n",
       "[5 rows x 27 columns]"
      ]
     },
     "execution_count": 35,
     "metadata": {},
     "output_type": "execute_result"
    }
   ],
   "source": [
    "data.head()"
   ]
  },
  {
   "cell_type": "code",
   "execution_count": 36,
   "metadata": {},
   "outputs": [],
   "source": [
    "# Date column is divide into three columns of Day,year and month,lets check their null values."
   ]
  },
  {
   "cell_type": "code",
   "execution_count": 37,
   "metadata": {},
   "outputs": [
    {
     "data": {
      "text/plain": [
       "station             0\n",
       "Present_Tmax        0\n",
       "Present_Tmin        0\n",
       "LDAPS_RHmin         0\n",
       "LDAPS_RHmax         0\n",
       "LDAPS_Tmax_lapse    0\n",
       "LDAPS_Tmin_lapse    0\n",
       "LDAPS_WS            0\n",
       "LDAPS_LH            0\n",
       "LDAPS_CC1           0\n",
       "LDAPS_CC2           0\n",
       "LDAPS_CC3           0\n",
       "LDAPS_CC4           0\n",
       "LDAPS_PPT1          0\n",
       "LDAPS_PPT2          0\n",
       "LDAPS_PPT3          0\n",
       "LDAPS_PPT4          0\n",
       "lat                 0\n",
       "lon                 0\n",
       "DEM                 0\n",
       "Slope               0\n",
       "Solar radiation     0\n",
       "Next_Tmax           0\n",
       "Next_Tmin           0\n",
       "Year                2\n",
       "Month               2\n",
       "Day                 2\n",
       "dtype: int64"
      ]
     },
     "execution_count": 37,
     "metadata": {},
     "output_type": "execute_result"
    }
   ],
   "source": [
    "data.isnull().sum()"
   ]
  },
  {
   "cell_type": "code",
   "execution_count": 38,
   "metadata": {},
   "outputs": [
    {
     "name": "stderr",
     "output_type": "stream",
     "text": [
      "C:\\Users\\RitikaGugu\\Anaconda3\\lib\\site-packages\\seaborn\\distributions.py:2551: FutureWarning: `distplot` is a deprecated function and will be removed in a future version. Please adapt your code to use either `displot` (a figure-level function with similar flexibility) or `histplot` (an axes-level function for histograms).\n",
      "  warnings.warn(msg, FutureWarning)\n"
     ]
    },
    {
     "data": {
      "text/plain": [
       "<AxesSubplot:xlabel='Day', ylabel='Density'>"
      ]
     },
     "execution_count": 38,
     "metadata": {},
     "output_type": "execute_result"
    },
    {
     "data": {
      "image/png": "[encoded data removed]",
      "text/plain": [
       "<Figure size 432x288 with 1 Axes>"
      ]
     },
     "metadata": {
      "needs_background": "light"
     },
     "output_type": "display_data"
    }
   ],
   "source": [
    "sns.distplot(data[\"Day\"])"
   ]
  },
  {
   "cell_type": "code",
   "execution_count": 39,
   "metadata": {},
   "outputs": [],
   "source": [
    "data['Day'] = data['Day'].fillna(data['Day'].median())"
   ]
  },
  {
   "cell_type": "code",
   "execution_count": 40,
   "metadata": {},
   "outputs": [
    {
     "name": "stderr",
     "output_type": "stream",
     "text": [
      "C:\\Users\\RitikaGugu\\Anaconda3\\lib\\site-packages\\seaborn\\distributions.py:2551: FutureWarning: `distplot` is a deprecated function and will be removed in a future version. Please adapt your code to use either `displot` (a figure-level function with similar flexibility) or `histplot` (an axes-level function for histograms).\n",
      "  warnings.warn(msg, FutureWarning)\n"
     ]
    },
    {
     "data": {
      "text/plain": [
       "<AxesSubplot:xlabel='Month', ylabel='Density'>"
      ]
     },
     "execution_count": 40,
     "metadata": {},
     "output_type": "execute_result"
    },
    {
     "data": {
      "image/png": "[encoded data removed]",
      "text/plain": [
       "<Figure size 432x288 with 1 Axes>"
      ]
     },
     "metadata": {
      "needs_background": "light"
     },
     "output_type": "display_data"
    }
   ],
   "source": [
    "sns.distplot(data[\"Month\"])"
   ]
  },
  {
   "cell_type": "code",
   "execution_count": 41,
   "metadata": {},
   "outputs": [],
   "source": [
    "data['Month'] = data['Month'].fillna(data['Month'].median())"
   ]
  },
  {
   "cell_type": "code",
   "execution_count": 42,
   "metadata": {},
   "outputs": [
    {
     "name": "stderr",
     "output_type": "stream",
     "text": [
      "C:\\Users\\RitikaGugu\\Anaconda3\\lib\\site-packages\\seaborn\\distributions.py:2551: FutureWarning: `distplot` is a deprecated function and will be removed in a future version. Please adapt your code to use either `displot` (a figure-level function with similar flexibility) or `histplot` (an axes-level function for histograms).\n",
      "  warnings.warn(msg, FutureWarning)\n"
     ]
    },
    {
     "data": {
      "text/plain": [
       "<AxesSubplot:xlabel='Year', ylabel='Density'>"
      ]
     },
     "execution_count": 42,
     "metadata": {},
     "output_type": "execute_result"
    },
    {
     "data": {
      "image/png": "[encoded data removed]",
      "text/plain": [
       "<Figure size 432x288 with 1 Axes>"
      ]
     },
     "metadata": {
      "needs_background": "light"
     },
     "output_type": "display_data"
    }
   ],
   "source": [
    "sns.distplot(data[\"Year\"])"
   ]
  },
  {
   "cell_type": "code",
   "execution_count": 43,
   "metadata": {},
   "outputs": [],
   "source": [
    "data['Year'] = data['Year'].fillna(data['Year'].median())"
   ]
  },
  {
   "cell_type": "code",
   "execution_count": 44,
   "metadata": {},
   "outputs": [
    {
     "data": {
      "text/plain": [
       "station             0\n",
       "Present_Tmax        0\n",
       "Present_Tmin        0\n",
       "LDAPS_RHmin         0\n",
       "LDAPS_RHmax         0\n",
       "LDAPS_Tmax_lapse    0\n",
       "LDAPS_Tmin_lapse    0\n",
       "LDAPS_WS            0\n",
       "LDAPS_LH            0\n",
       "LDAPS_CC1           0\n",
       "LDAPS_CC2           0\n",
       "LDAPS_CC3           0\n",
       "LDAPS_CC4           0\n",
       "LDAPS_PPT1          0\n",
       "LDAPS_PPT2          0\n",
       "LDAPS_PPT3          0\n",
       "LDAPS_PPT4          0\n",
       "lat                 0\n",
       "lon                 0\n",
       "DEM                 0\n",
       "Slope               0\n",
       "Solar radiation     0\n",
       "Next_Tmax           0\n",
       "Next_Tmin           0\n",
       "Year                0\n",
       "Month               0\n",
       "Day                 0\n",
       "dtype: int64"
      ]
     },
     "execution_count": 44,
     "metadata": {},
     "output_type": "execute_result"
    }
   ],
   "source": [
    "data.isnull().sum()"
   ]
  },
  {
   "cell_type": "code",
   "execution_count": 45,
   "metadata": {},
   "outputs": [],
   "source": [
    "# we have no null values now."
   ]
  },
  {
   "cell_type": "code",
   "execution_count": 49,
   "metadata": {},
   "outputs": [
    {
     "data": {
      "text/html": [
       "<div>\n",
       "<style scoped>\n",
       "    .dataframe tbody tr th:only-of-type {\n",
       "        vertical-align: middle;\n",
       "    }\n",
       "\n",
       "    .dataframe tbody tr th {\n",
       "        vertical-align: top;\n",
       "    }\n",
       "\n",
       "    .dataframe thead th {\n",
       "        text-align: right;\n",
       "    }\n",
       "</style>\n",
       "<table border=\"1\" class=\"dataframe\">\n",
       "  <thead>\n",
       "    <tr style=\"text-align: right;\">\n",
       "      <th></th>\n",
       "      <th>station</th>\n",
       "      <th>Present_Tmax</th>\n",
       "      <th>Present_Tmin</th>\n",
       "      <th>LDAPS_RHmin</th>\n",
       "      <th>LDAPS_RHmax</th>\n",
       "      <th>LDAPS_Tmax_lapse</th>\n",
       "      <th>LDAPS_Tmin_lapse</th>\n",
       "      <th>LDAPS_WS</th>\n",
       "      <th>LDAPS_LH</th>\n",
       "      <th>LDAPS_CC1</th>\n",
       "      <th>...</th>\n",
       "      <th>lat</th>\n",
       "      <th>lon</th>\n",
       "      <th>DEM</th>\n",
       "      <th>Slope</th>\n",
       "      <th>Solar radiation</th>\n",
       "      <th>Next_Tmax</th>\n",
       "      <th>Next_Tmin</th>\n",
       "      <th>Year</th>\n",
       "      <th>Month</th>\n",
       "      <th>Day</th>\n",
       "    </tr>\n",
       "  </thead>\n",
       "  <tbody>\n",
       "    <tr>\n",
       "      <th>count</th>\n",
       "      <td>7752.000000</td>\n",
       "      <td>7752.000000</td>\n",
       "      <td>7752.000000</td>\n",
       "      <td>7752.000000</td>\n",
       "      <td>7752.000000</td>\n",
       "      <td>7752.000000</td>\n",
       "      <td>7752.000000</td>\n",
       "      <td>7752.000000</td>\n",
       "      <td>7752.000000</td>\n",
       "      <td>7752.000000</td>\n",
       "      <td>...</td>\n",
       "      <td>7752.000000</td>\n",
       "      <td>7752.000000</td>\n",
       "      <td>7752.000000</td>\n",
       "      <td>7752.000000</td>\n",
       "      <td>7752.000000</td>\n",
       "      <td>7752.000000</td>\n",
       "      <td>7752.000000</td>\n",
       "      <td>7752.000000</td>\n",
       "      <td>7752.000000</td>\n",
       "      <td>7752.000000</td>\n",
       "    </tr>\n",
       "    <tr>\n",
       "      <th>mean</th>\n",
       "      <td>13.000000</td>\n",
       "      <td>29.768211</td>\n",
       "      <td>23.225059</td>\n",
       "      <td>56.759372</td>\n",
       "      <td>88.388529</td>\n",
       "      <td>29.614317</td>\n",
       "      <td>23.512589</td>\n",
       "      <td>7.097875</td>\n",
       "      <td>62.505019</td>\n",
       "      <td>0.368260</td>\n",
       "      <td>...</td>\n",
       "      <td>37.544722</td>\n",
       "      <td>126.991397</td>\n",
       "      <td>61.867972</td>\n",
       "      <td>1.257048</td>\n",
       "      <td>5341.502803</td>\n",
       "      <td>30.274887</td>\n",
       "      <td>22.932220</td>\n",
       "      <td>2015.000000</td>\n",
       "      <td>7.080624</td>\n",
       "      <td>16.370872</td>\n",
       "    </tr>\n",
       "    <tr>\n",
       "      <th>std</th>\n",
       "      <td>7.210637</td>\n",
       "      <td>2.956557</td>\n",
       "      <td>2.403036</td>\n",
       "      <td>14.596973</td>\n",
       "      <td>7.158471</td>\n",
       "      <td>2.932911</td>\n",
       "      <td>2.333973</td>\n",
       "      <td>2.173245</td>\n",
       "      <td>33.567001</td>\n",
       "      <td>0.261236</td>\n",
       "      <td>...</td>\n",
       "      <td>0.050352</td>\n",
       "      <td>0.079435</td>\n",
       "      <td>54.279780</td>\n",
       "      <td>1.370444</td>\n",
       "      <td>429.158867</td>\n",
       "      <td>3.122557</td>\n",
       "      <td>2.483276</td>\n",
       "      <td>1.414122</td>\n",
       "      <td>2.238075</td>\n",
       "      <td>8.240270</td>\n",
       "    </tr>\n",
       "    <tr>\n",
       "      <th>min</th>\n",
       "      <td>1.000000</td>\n",
       "      <td>20.000000</td>\n",
       "      <td>11.300000</td>\n",
       "      <td>19.794666</td>\n",
       "      <td>58.936283</td>\n",
       "      <td>17.624954</td>\n",
       "      <td>14.272646</td>\n",
       "      <td>2.882580</td>\n",
       "      <td>-13.603212</td>\n",
       "      <td>0.000000</td>\n",
       "      <td>...</td>\n",
       "      <td>37.456200</td>\n",
       "      <td>126.826000</td>\n",
       "      <td>12.370000</td>\n",
       "      <td>0.098475</td>\n",
       "      <td>4329.520508</td>\n",
       "      <td>17.400000</td>\n",
       "      <td>11.300000</td>\n",
       "      <td>2013.000000</td>\n",
       "      <td>1.000000</td>\n",
       "      <td>7.000000</td>\n",
       "    </tr>\n",
       "    <tr>\n",
       "      <th>25%</th>\n",
       "      <td>7.000000</td>\n",
       "      <td>27.800000</td>\n",
       "      <td>21.700000</td>\n",
       "      <td>46.046162</td>\n",
       "      <td>84.316923</td>\n",
       "      <td>27.693091</td>\n",
       "      <td>22.114651</td>\n",
       "      <td>5.686487</td>\n",
       "      <td>37.532764</td>\n",
       "      <td>0.148321</td>\n",
       "      <td>...</td>\n",
       "      <td>37.510200</td>\n",
       "      <td>126.937000</td>\n",
       "      <td>28.700000</td>\n",
       "      <td>0.271300</td>\n",
       "      <td>4999.018555</td>\n",
       "      <td>28.200000</td>\n",
       "      <td>21.400000</td>\n",
       "      <td>2014.000000</td>\n",
       "      <td>7.000000</td>\n",
       "      <td>8.000000</td>\n",
       "    </tr>\n",
       "    <tr>\n",
       "      <th>50%</th>\n",
       "      <td>13.000000</td>\n",
       "      <td>29.900000</td>\n",
       "      <td>23.400000</td>\n",
       "      <td>55.313244</td>\n",
       "      <td>89.793480</td>\n",
       "      <td>29.703426</td>\n",
       "      <td>23.735942</td>\n",
       "      <td>6.563068</td>\n",
       "      <td>57.310630</td>\n",
       "      <td>0.315697</td>\n",
       "      <td>...</td>\n",
       "      <td>37.550700</td>\n",
       "      <td>126.995000</td>\n",
       "      <td>45.716000</td>\n",
       "      <td>0.618000</td>\n",
       "      <td>5436.345215</td>\n",
       "      <td>30.500000</td>\n",
       "      <td>23.100000</td>\n",
       "      <td>2015.000000</td>\n",
       "      <td>7.000000</td>\n",
       "      <td>16.000000</td>\n",
       "    </tr>\n",
       "    <tr>\n",
       "      <th>75%</th>\n",
       "      <td>19.000000</td>\n",
       "      <td>32.000000</td>\n",
       "      <td>24.900000</td>\n",
       "      <td>67.038254</td>\n",
       "      <td>93.704500</td>\n",
       "      <td>31.683819</td>\n",
       "      <td>25.134000</td>\n",
       "      <td>8.007471</td>\n",
       "      <td>83.904586</td>\n",
       "      <td>0.571696</td>\n",
       "      <td>...</td>\n",
       "      <td>37.577600</td>\n",
       "      <td>127.042000</td>\n",
       "      <td>59.832400</td>\n",
       "      <td>1.767800</td>\n",
       "      <td>5728.316406</td>\n",
       "      <td>32.600000</td>\n",
       "      <td>24.600000</td>\n",
       "      <td>2016.000000</td>\n",
       "      <td>8.000000</td>\n",
       "      <td>24.000000</td>\n",
       "    </tr>\n",
       "    <tr>\n",
       "      <th>max</th>\n",
       "      <td>25.000000</td>\n",
       "      <td>37.600000</td>\n",
       "      <td>29.900000</td>\n",
       "      <td>98.524734</td>\n",
       "      <td>100.000153</td>\n",
       "      <td>38.542255</td>\n",
       "      <td>29.619342</td>\n",
       "      <td>21.857621</td>\n",
       "      <td>213.414006</td>\n",
       "      <td>0.967277</td>\n",
       "      <td>...</td>\n",
       "      <td>37.645000</td>\n",
       "      <td>127.135000</td>\n",
       "      <td>212.335000</td>\n",
       "      <td>5.178230</td>\n",
       "      <td>5992.895996</td>\n",
       "      <td>38.900000</td>\n",
       "      <td>29.800000</td>\n",
       "      <td>2017.000000</td>\n",
       "      <td>12.000000</td>\n",
       "      <td>31.000000</td>\n",
       "    </tr>\n",
       "  </tbody>\n",
       "</table>\n",
       "<p>8 rows × 27 columns</p>\n",
       "</div>"
      ],
      "text/plain": [
       "           station  Present_Tmax  Present_Tmin  LDAPS_RHmin  LDAPS_RHmax  \\\n",
       "count  7752.000000   7752.000000   7752.000000  7752.000000  7752.000000   \n",
       "mean     13.000000     29.768211     23.225059    56.759372    88.388529   \n",
       "std       7.210637      2.956557      2.403036    14.596973     7.158471   \n",
       "min       1.000000     20.000000     11.300000    19.794666    58.936283   \n",
       "25%       7.000000     27.800000     21.700000    46.046162    84.316923   \n",
       "50%      13.000000     29.900000     23.400000    55.313244    89.793480   \n",
       "75%      19.000000     32.000000     24.900000    67.038254    93.704500   \n",
       "max      25.000000     37.600000     29.900000    98.524734   100.000153   \n",
       "\n",
       "       LDAPS_Tmax_lapse  LDAPS_Tmin_lapse     LDAPS_WS     LDAPS_LH  \\\n",
       "count       7752.000000       7752.000000  7752.000000  7752.000000   \n",
       "mean          29.614317         23.512589     7.097875    62.505019   \n",
       "std            2.932911          2.333973     2.173245    33.567001   \n",
       "min           17.624954         14.272646     2.882580   -13.603212   \n",
       "25%           27.693091         22.114651     5.686487    37.532764   \n",
       "50%           29.703426         23.735942     6.563068    57.310630   \n",
       "75%           31.683819         25.134000     8.007471    83.904586   \n",
       "max           38.542255         29.619342    21.857621   213.414006   \n",
       "\n",
       "         LDAPS_CC1  ...          lat          lon          DEM        Slope  \\\n",
       "count  7752.000000  ...  7752.000000  7752.000000  7752.000000  7752.000000   \n",
       "mean      0.368260  ...    37.544722   126.991397    61.867972     1.257048   \n",
       "std       0.261236  ...     0.050352     0.079435    54.279780     1.370444   \n",
       "min       0.000000  ...    37.456200   126.826000    12.370000     0.098475   \n",
       "25%       0.148321  ...    37.510200   126.937000    28.700000     0.271300   \n",
       "50%       0.315697  ...    37.550700   126.995000    45.716000     0.618000   \n",
       "75%       0.571696  ...    37.577600   127.042000    59.832400     1.767800   \n",
       "max       0.967277  ...    37.645000   127.135000   212.335000     5.178230   \n",
       "\n",
       "       Solar radiation    Next_Tmax    Next_Tmin         Year        Month  \\\n",
       "count      7752.000000  7752.000000  7752.000000  7752.000000  7752.000000   \n",
       "mean       5341.502803    30.274887    22.932220  2015.000000     7.080624   \n",
       "std         429.158867     3.122557     2.483276     1.414122     2.238075   \n",
       "min        4329.520508    17.400000    11.300000  2013.000000     1.000000   \n",
       "25%        4999.018555    28.200000    21.400000  2014.000000     7.000000   \n",
       "50%        5436.345215    30.500000    23.100000  2015.000000     7.000000   \n",
       "75%        5728.316406    32.600000    24.600000  2016.000000     8.000000   \n",
       "max        5992.895996    38.900000    29.800000  2017.000000    12.000000   \n",
       "\n",
       "               Day  \n",
       "count  7752.000000  \n",
       "mean     16.370872  \n",
       "std       8.240270  \n",
       "min       7.000000  \n",
       "25%       8.000000  \n",
       "50%      16.000000  \n",
       "75%      24.000000  \n",
       "max      31.000000  \n",
       "\n",
       "[8 rows x 27 columns]"
      ]
     },
     "execution_count": 49,
     "metadata": {},
     "output_type": "execute_result"
    }
   ],
   "source": [
    "data.describe()"
   ]
  },
  {
   "cell_type": "code",
   "execution_count": 63,
   "metadata": {},
   "outputs": [
    {
     "data": {
      "text/html": [
       "<div>\n",
       "<style scoped>\n",
       "    .dataframe tbody tr th:only-of-type {\n",
       "        vertical-align: middle;\n",
       "    }\n",
       "\n",
       "    .dataframe tbody tr th {\n",
       "        vertical-align: top;\n",
       "    }\n",
       "\n",
       "    .dataframe thead th {\n",
       "        text-align: right;\n",
       "    }\n",
       "</style>\n",
       "<table border=\"1\" class=\"dataframe\">\n",
       "  <thead>\n",
       "    <tr style=\"text-align: right;\">\n",
       "      <th></th>\n",
       "      <th>station</th>\n",
       "      <th>Present_Tmax</th>\n",
       "      <th>Present_Tmin</th>\n",
       "      <th>LDAPS_RHmin</th>\n",
       "      <th>LDAPS_RHmax</th>\n",
       "      <th>LDAPS_Tmax_lapse</th>\n",
       "      <th>LDAPS_Tmin_lapse</th>\n",
       "      <th>LDAPS_WS</th>\n",
       "      <th>LDAPS_LH</th>\n",
       "      <th>LDAPS_CC1</th>\n",
       "      <th>...</th>\n",
       "      <th>lat</th>\n",
       "      <th>lon</th>\n",
       "      <th>DEM</th>\n",
       "      <th>Slope</th>\n",
       "      <th>Solar radiation</th>\n",
       "      <th>Next_Tmax</th>\n",
       "      <th>Next_Tmin</th>\n",
       "      <th>Year</th>\n",
       "      <th>Month</th>\n",
       "      <th>Day</th>\n",
       "    </tr>\n",
       "  </thead>\n",
       "  <tbody>\n",
       "    <tr>\n",
       "      <th>station</th>\n",
       "      <td>1.000000e+00</td>\n",
       "      <td>0.112655</td>\n",
       "      <td>0.131646</td>\n",
       "      <td>-0.066733</td>\n",
       "      <td>-0.166953</td>\n",
       "      <td>0.069107</td>\n",
       "      <td>0.104758</td>\n",
       "      <td>0.005277</td>\n",
       "      <td>-0.133357</td>\n",
       "      <td>0.006917</td>\n",
       "      <td>...</td>\n",
       "      <td>-0.237502</td>\n",
       "      <td>-0.118704</td>\n",
       "      <td>-2.558297e-01</td>\n",
       "      <td>-9.006090e-02</td>\n",
       "      <td>-0.019001</td>\n",
       "      <td>0.107983</td>\n",
       "      <td>0.128293</td>\n",
       "      <td>0.000000e+00</td>\n",
       "      <td>2.186980e-17</td>\n",
       "      <td>1.721796e-17</td>\n",
       "    </tr>\n",
       "    <tr>\n",
       "      <th>Present_Tmax</th>\n",
       "      <td>1.126554e-01</td>\n",
       "      <td>1.000000</td>\n",
       "      <td>0.618760</td>\n",
       "      <td>-0.204571</td>\n",
       "      <td>-0.300322</td>\n",
       "      <td>0.570345</td>\n",
       "      <td>0.623496</td>\n",
       "      <td>-0.121820</td>\n",
       "      <td>0.135463</td>\n",
       "      <td>-0.313187</td>\n",
       "      <td>...</td>\n",
       "      <td>-0.052615</td>\n",
       "      <td>0.009020</td>\n",
       "      <td>-1.871206e-01</td>\n",
       "      <td>-1.058092e-01</td>\n",
       "      <td>-0.025439</td>\n",
       "      <td>0.610348</td>\n",
       "      <td>0.622741</td>\n",
       "      <td>5.980007e-02</td>\n",
       "      <td>-1.147705e-03</td>\n",
       "      <td>-1.438031e-01</td>\n",
       "    </tr>\n",
       "    <tr>\n",
       "      <th>Present_Tmin</th>\n",
       "      <td>1.316462e-01</td>\n",
       "      <td>0.618760</td>\n",
       "      <td>1.000000</td>\n",
       "      <td>0.123143</td>\n",
       "      <td>-0.012754</td>\n",
       "      <td>0.464518</td>\n",
       "      <td>0.762993</td>\n",
       "      <td>-0.034675</td>\n",
       "      <td>-0.009258</td>\n",
       "      <td>0.081988</td>\n",
       "      <td>...</td>\n",
       "      <td>-0.078475</td>\n",
       "      <td>-0.043461</td>\n",
       "      <td>-2.502747e-01</td>\n",
       "      <td>-1.463390e-01</td>\n",
       "      <td>0.053578</td>\n",
       "      <td>0.471806</td>\n",
       "      <td>0.796670</td>\n",
       "      <td>3.739568e-02</td>\n",
       "      <td>-3.424069e-03</td>\n",
       "      <td>-1.082594e-01</td>\n",
       "    </tr>\n",
       "    <tr>\n",
       "      <th>LDAPS_RHmin</th>\n",
       "      <td>-6.673316e-02</td>\n",
       "      <td>-0.204571</td>\n",
       "      <td>0.123143</td>\n",
       "      <td>1.000000</td>\n",
       "      <td>0.579032</td>\n",
       "      <td>-0.564578</td>\n",
       "      <td>0.089476</td>\n",
       "      <td>0.294361</td>\n",
       "      <td>-0.070858</td>\n",
       "      <td>0.613696</td>\n",
       "      <td>...</td>\n",
       "      <td>0.087099</td>\n",
       "      <td>-0.076237</td>\n",
       "      <td>1.021149e-01</td>\n",
       "      <td>1.237439e-01</td>\n",
       "      <td>0.244080</td>\n",
       "      <td>-0.437898</td>\n",
       "      <td>0.095019</td>\n",
       "      <td>-2.044507e-03</td>\n",
       "      <td>-5.394173e-02</td>\n",
       "      <td>-6.583900e-02</td>\n",
       "    </tr>\n",
       "    <tr>\n",
       "      <th>LDAPS_RHmax</th>\n",
       "      <td>-1.669531e-01</td>\n",
       "      <td>-0.300322</td>\n",
       "      <td>-0.012754</td>\n",
       "      <td>0.579032</td>\n",
       "      <td>1.000000</td>\n",
       "      <td>-0.373274</td>\n",
       "      <td>-0.114121</td>\n",
       "      <td>0.135308</td>\n",
       "      <td>0.238534</td>\n",
       "      <td>0.436097</td>\n",
       "      <td>...</td>\n",
       "      <td>0.195761</td>\n",
       "      <td>0.025662</td>\n",
       "      <td>1.771343e-01</td>\n",
       "      <td>2.195571e-01</td>\n",
       "      <td>0.148259</td>\n",
       "      <td>-0.281341</td>\n",
       "      <td>-0.070246</td>\n",
       "      <td>-1.418053e-01</td>\n",
       "      <td>-3.889740e-02</td>\n",
       "      <td>-1.222295e-02</td>\n",
       "    </tr>\n",
       "    <tr>\n",
       "      <th>LDAPS_Tmax_lapse</th>\n",
       "      <td>6.910687e-02</td>\n",
       "      <td>0.570345</td>\n",
       "      <td>0.464518</td>\n",
       "      <td>-0.564578</td>\n",
       "      <td>-0.373274</td>\n",
       "      <td>1.000000</td>\n",
       "      <td>0.654018</td>\n",
       "      <td>-0.311994</td>\n",
       "      <td>0.048010</td>\n",
       "      <td>-0.438410</td>\n",
       "      <td>...</td>\n",
       "      <td>-0.042093</td>\n",
       "      <td>0.090665</td>\n",
       "      <td>-1.788947e-01</td>\n",
       "      <td>-1.623317e-01</td>\n",
       "      <td>0.047820</td>\n",
       "      <td>0.827548</td>\n",
       "      <td>0.587135</td>\n",
       "      <td>1.617209e-02</td>\n",
       "      <td>-2.151881e-02</td>\n",
       "      <td>-1.601958e-01</td>\n",
       "    </tr>\n",
       "    <tr>\n",
       "      <th>LDAPS_Tmin_lapse</th>\n",
       "      <td>1.047582e-01</td>\n",
       "      <td>0.623496</td>\n",
       "      <td>0.762993</td>\n",
       "      <td>0.089476</td>\n",
       "      <td>-0.114121</td>\n",
       "      <td>0.654018</td>\n",
       "      <td>1.000000</td>\n",
       "      <td>-0.130035</td>\n",
       "      <td>-0.134761</td>\n",
       "      <td>0.010898</td>\n",
       "      <td>...</td>\n",
       "      <td>-0.096257</td>\n",
       "      <td>-0.026701</td>\n",
       "      <td>-1.954553e-01</td>\n",
       "      <td>-1.858487e-01</td>\n",
       "      <td>0.159975</td>\n",
       "      <td>0.586983</td>\n",
       "      <td>0.880176</td>\n",
       "      <td>-4.693413e-03</td>\n",
       "      <td>-2.748957e-02</td>\n",
       "      <td>-1.779467e-01</td>\n",
       "    </tr>\n",
       "    <tr>\n",
       "      <th>LDAPS_WS</th>\n",
       "      <td>5.277000e-03</td>\n",
       "      <td>-0.121820</td>\n",
       "      <td>-0.034675</td>\n",
       "      <td>0.294361</td>\n",
       "      <td>0.135308</td>\n",
       "      <td>-0.311994</td>\n",
       "      <td>-0.130035</td>\n",
       "      <td>1.000000</td>\n",
       "      <td>0.006711</td>\n",
       "      <td>0.289388</td>\n",
       "      <td>...</td>\n",
       "      <td>0.036657</td>\n",
       "      <td>-0.059466</td>\n",
       "      <td>1.910530e-01</td>\n",
       "      <td>1.716286e-01</td>\n",
       "      <td>0.121759</td>\n",
       "      <td>-0.342729</td>\n",
       "      <td>-0.096576</td>\n",
       "      <td>-1.113577e-01</td>\n",
       "      <td>-8.131024e-02</td>\n",
       "      <td>-2.916284e-02</td>\n",
       "    </tr>\n",
       "    <tr>\n",
       "      <th>LDAPS_LH</th>\n",
       "      <td>-1.333566e-01</td>\n",
       "      <td>0.135463</td>\n",
       "      <td>-0.009258</td>\n",
       "      <td>-0.070858</td>\n",
       "      <td>0.238534</td>\n",
       "      <td>0.048010</td>\n",
       "      <td>-0.134761</td>\n",
       "      <td>0.006711</td>\n",
       "      <td>1.000000</td>\n",
       "      <td>-0.147267</td>\n",
       "      <td>...</td>\n",
       "      <td>0.133221</td>\n",
       "      <td>0.025822</td>\n",
       "      <td>5.513344e-02</td>\n",
       "      <td>8.678088e-02</td>\n",
       "      <td>-0.047384</td>\n",
       "      <td>0.157616</td>\n",
       "      <td>-0.055440</td>\n",
       "      <td>5.707733e-02</td>\n",
       "      <td>-2.275811e-02</td>\n",
       "      <td>-1.210779e-02</td>\n",
       "    </tr>\n",
       "    <tr>\n",
       "      <th>LDAPS_CC1</th>\n",
       "      <td>6.917419e-03</td>\n",
       "      <td>-0.313187</td>\n",
       "      <td>0.081988</td>\n",
       "      <td>0.613696</td>\n",
       "      <td>0.436097</td>\n",
       "      <td>-0.438410</td>\n",
       "      <td>0.010898</td>\n",
       "      <td>0.289388</td>\n",
       "      <td>-0.147267</td>\n",
       "      <td>1.000000</td>\n",
       "      <td>...</td>\n",
       "      <td>-0.008129</td>\n",
       "      <td>-0.006842</td>\n",
       "      <td>-1.408707e-02</td>\n",
       "      <td>-2.074738e-02</td>\n",
       "      <td>0.219264</td>\n",
       "      <td>-0.454855</td>\n",
       "      <td>-0.012807</td>\n",
       "      <td>-6.646482e-02</td>\n",
       "      <td>-7.736128e-02</td>\n",
       "      <td>-2.092459e-02</td>\n",
       "    </tr>\n",
       "    <tr>\n",
       "      <th>LDAPS_CC2</th>\n",
       "      <td>3.395569e-03</td>\n",
       "      <td>-0.214969</td>\n",
       "      <td>0.088207</td>\n",
       "      <td>0.745340</td>\n",
       "      <td>0.390879</td>\n",
       "      <td>-0.523594</td>\n",
       "      <td>0.047721</td>\n",
       "      <td>0.261054</td>\n",
       "      <td>-0.264244</td>\n",
       "      <td>0.779752</td>\n",
       "      <td>...</td>\n",
       "      <td>-0.001497</td>\n",
       "      <td>-0.003581</td>\n",
       "      <td>-1.282108e-02</td>\n",
       "      <td>-1.807006e-02</td>\n",
       "      <td>0.171215</td>\n",
       "      <td>-0.492699</td>\n",
       "      <td>0.029756</td>\n",
       "      <td>-4.325023e-02</td>\n",
       "      <td>-9.158320e-02</td>\n",
       "      <td>3.200792e-03</td>\n",
       "    </tr>\n",
       "    <tr>\n",
       "      <th>LDAPS_CC3</th>\n",
       "      <td>6.938517e-04</td>\n",
       "      <td>-0.145577</td>\n",
       "      <td>-0.005466</td>\n",
       "      <td>0.689513</td>\n",
       "      <td>0.226434</td>\n",
       "      <td>-0.541260</td>\n",
       "      <td>-0.044008</td>\n",
       "      <td>0.242933</td>\n",
       "      <td>-0.245524</td>\n",
       "      <td>0.517702</td>\n",
       "      <td>...</td>\n",
       "      <td>0.004107</td>\n",
       "      <td>0.016037</td>\n",
       "      <td>6.975057e-04</td>\n",
       "      <td>-3.336889e-03</td>\n",
       "      <td>0.120365</td>\n",
       "      <td>-0.517207</td>\n",
       "      <td>-0.056678</td>\n",
       "      <td>1.104537e-01</td>\n",
       "      <td>-3.695925e-02</td>\n",
       "      <td>-5.399812e-02</td>\n",
       "    </tr>\n",
       "    <tr>\n",
       "      <th>LDAPS_CC4</th>\n",
       "      <td>6.123659e-03</td>\n",
       "      <td>-0.142683</td>\n",
       "      <td>-0.047714</td>\n",
       "      <td>0.513878</td>\n",
       "      <td>0.130008</td>\n",
       "      <td>-0.429456</td>\n",
       "      <td>-0.080304</td>\n",
       "      <td>0.220449</td>\n",
       "      <td>-0.172700</td>\n",
       "      <td>0.361386</td>\n",
       "      <td>...</td>\n",
       "      <td>-0.009103</td>\n",
       "      <td>-0.002476</td>\n",
       "      <td>-7.330735e-03</td>\n",
       "      <td>-1.445305e-02</td>\n",
       "      <td>0.121326</td>\n",
       "      <td>-0.449490</td>\n",
       "      <td>-0.087537</td>\n",
       "      <td>1.041712e-01</td>\n",
       "      <td>-1.832629e-02</td>\n",
       "      <td>-4.440384e-02</td>\n",
       "    </tr>\n",
       "    <tr>\n",
       "      <th>LDAPS_PPT1</th>\n",
       "      <td>-2.708269e-03</td>\n",
       "      <td>-0.111129</td>\n",
       "      <td>0.109121</td>\n",
       "      <td>0.262547</td>\n",
       "      <td>0.267698</td>\n",
       "      <td>-0.111105</td>\n",
       "      <td>0.038039</td>\n",
       "      <td>0.152519</td>\n",
       "      <td>-0.012536</td>\n",
       "      <td>0.446635</td>\n",
       "      <td>...</td>\n",
       "      <td>0.000565</td>\n",
       "      <td>-0.001225</td>\n",
       "      <td>1.128602e-02</td>\n",
       "      <td>1.630339e-02</td>\n",
       "      <td>0.089477</td>\n",
       "      <td>-0.122379</td>\n",
       "      <td>0.018633</td>\n",
       "      <td>-8.893853e-02</td>\n",
       "      <td>-3.083454e-02</td>\n",
       "      <td>-2.166122e-02</td>\n",
       "    </tr>\n",
       "    <tr>\n",
       "      <th>LDAPS_PPT2</th>\n",
       "      <td>-8.246528e-03</td>\n",
       "      <td>-0.101377</td>\n",
       "      <td>0.064829</td>\n",
       "      <td>0.390824</td>\n",
       "      <td>0.228398</td>\n",
       "      <td>-0.242113</td>\n",
       "      <td>0.000869</td>\n",
       "      <td>0.191816</td>\n",
       "      <td>-0.077516</td>\n",
       "      <td>0.389771</td>\n",
       "      <td>...</td>\n",
       "      <td>0.019557</td>\n",
       "      <td>0.018593</td>\n",
       "      <td>8.354157e-03</td>\n",
       "      <td>1.021134e-02</td>\n",
       "      <td>0.111500</td>\n",
       "      <td>-0.181587</td>\n",
       "      <td>-0.010478</td>\n",
       "      <td>-4.285713e-02</td>\n",
       "      <td>-4.516448e-02</td>\n",
       "      <td>-2.758966e-03</td>\n",
       "    </tr>\n",
       "    <tr>\n",
       "      <th>LDAPS_PPT3</th>\n",
       "      <td>-1.245767e-02</td>\n",
       "      <td>-0.122044</td>\n",
       "      <td>-0.049005</td>\n",
       "      <td>0.240576</td>\n",
       "      <td>0.134087</td>\n",
       "      <td>-0.188133</td>\n",
       "      <td>-0.088551</td>\n",
       "      <td>0.161639</td>\n",
       "      <td>0.016098</td>\n",
       "      <td>0.169130</td>\n",
       "      <td>...</td>\n",
       "      <td>0.035101</td>\n",
       "      <td>0.021656</td>\n",
       "      <td>1.718185e-02</td>\n",
       "      <td>2.532668e-02</td>\n",
       "      <td>-0.052874</td>\n",
       "      <td>-0.196935</td>\n",
       "      <td>-0.064714</td>\n",
       "      <td>4.716006e-02</td>\n",
       "      <td>3.433106e-02</td>\n",
       "      <td>-6.626646e-03</td>\n",
       "    </tr>\n",
       "    <tr>\n",
       "      <th>LDAPS_PPT4</th>\n",
       "      <td>-1.039876e-02</td>\n",
       "      <td>-0.101178</td>\n",
       "      <td>-0.065647</td>\n",
       "      <td>0.168555</td>\n",
       "      <td>0.117376</td>\n",
       "      <td>-0.160300</td>\n",
       "      <td>-0.094632</td>\n",
       "      <td>0.144050</td>\n",
       "      <td>0.019974</td>\n",
       "      <td>0.092119</td>\n",
       "      <td>...</td>\n",
       "      <td>0.013207</td>\n",
       "      <td>0.044735</td>\n",
       "      <td>-3.620842e-03</td>\n",
       "      <td>1.179225e-04</td>\n",
       "      <td>0.036052</td>\n",
       "      <td>-0.181329</td>\n",
       "      <td>-0.105624</td>\n",
       "      <td>3.796420e-02</td>\n",
       "      <td>-7.181900e-02</td>\n",
       "      <td>-2.341028e-02</td>\n",
       "    </tr>\n",
       "    <tr>\n",
       "      <th>lat</th>\n",
       "      <td>-2.375015e-01</td>\n",
       "      <td>-0.052615</td>\n",
       "      <td>-0.078475</td>\n",
       "      <td>0.087099</td>\n",
       "      <td>0.195761</td>\n",
       "      <td>-0.042093</td>\n",
       "      <td>-0.096257</td>\n",
       "      <td>0.036657</td>\n",
       "      <td>0.133221</td>\n",
       "      <td>-0.008129</td>\n",
       "      <td>...</td>\n",
       "      <td>1.000000</td>\n",
       "      <td>0.289029</td>\n",
       "      <td>3.316548e-02</td>\n",
       "      <td>7.476266e-02</td>\n",
       "      <td>0.038513</td>\n",
       "      <td>-0.053510</td>\n",
       "      <td>-0.083533</td>\n",
       "      <td>0.000000e+00</td>\n",
       "      <td>-1.085497e-06</td>\n",
       "      <td>-1.356187e-06</td>\n",
       "    </tr>\n",
       "    <tr>\n",
       "      <th>lon</th>\n",
       "      <td>-1.187044e-01</td>\n",
       "      <td>0.009020</td>\n",
       "      <td>-0.043461</td>\n",
       "      <td>-0.076237</td>\n",
       "      <td>0.025662</td>\n",
       "      <td>0.090665</td>\n",
       "      <td>-0.026701</td>\n",
       "      <td>-0.059466</td>\n",
       "      <td>0.025822</td>\n",
       "      <td>-0.006842</td>\n",
       "      <td>...</td>\n",
       "      <td>0.289029</td>\n",
       "      <td>1.000000</td>\n",
       "      <td>7.586860e-03</td>\n",
       "      <td>3.806989e-02</td>\n",
       "      <td>0.002182</td>\n",
       "      <td>0.003052</td>\n",
       "      <td>-0.046603</td>\n",
       "      <td>0.000000e+00</td>\n",
       "      <td>1.275492e-06</td>\n",
       "      <td>1.593562e-06</td>\n",
       "    </tr>\n",
       "    <tr>\n",
       "      <th>DEM</th>\n",
       "      <td>-2.558297e-01</td>\n",
       "      <td>-0.187121</td>\n",
       "      <td>-0.250275</td>\n",
       "      <td>0.102115</td>\n",
       "      <td>0.177134</td>\n",
       "      <td>-0.178895</td>\n",
       "      <td>-0.195455</td>\n",
       "      <td>0.191053</td>\n",
       "      <td>0.055133</td>\n",
       "      <td>-0.014087</td>\n",
       "      <td>...</td>\n",
       "      <td>0.033165</td>\n",
       "      <td>0.007587</td>\n",
       "      <td>1.000000e+00</td>\n",
       "      <td>7.835760e-01</td>\n",
       "      <td>0.056224</td>\n",
       "      <td>-0.172538</td>\n",
       "      <td>-0.246906</td>\n",
       "      <td>4.801019e-18</td>\n",
       "      <td>-8.647610e-06</td>\n",
       "      <td>-1.080407e-05</td>\n",
       "    </tr>\n",
       "    <tr>\n",
       "      <th>Slope</th>\n",
       "      <td>-9.006090e-02</td>\n",
       "      <td>-0.105809</td>\n",
       "      <td>-0.146339</td>\n",
       "      <td>0.123744</td>\n",
       "      <td>0.219557</td>\n",
       "      <td>-0.162332</td>\n",
       "      <td>-0.185849</td>\n",
       "      <td>0.171629</td>\n",
       "      <td>0.086781</td>\n",
       "      <td>-0.020747</td>\n",
       "      <td>...</td>\n",
       "      <td>0.074763</td>\n",
       "      <td>0.038070</td>\n",
       "      <td>7.835760e-01</td>\n",
       "      <td>1.000000e+00</td>\n",
       "      <td>0.028199</td>\n",
       "      <td>-0.102725</td>\n",
       "      <td>-0.146882</td>\n",
       "      <td>-1.404294e-18</td>\n",
       "      <td>-9.371389e-06</td>\n",
       "      <td>-1.170833e-05</td>\n",
       "    </tr>\n",
       "    <tr>\n",
       "      <th>Solar radiation</th>\n",
       "      <td>-1.900100e-02</td>\n",
       "      <td>-0.025439</td>\n",
       "      <td>0.053578</td>\n",
       "      <td>0.244080</td>\n",
       "      <td>0.148259</td>\n",
       "      <td>0.047820</td>\n",
       "      <td>0.159975</td>\n",
       "      <td>0.121759</td>\n",
       "      <td>-0.047384</td>\n",
       "      <td>0.219264</td>\n",
       "      <td>...</td>\n",
       "      <td>0.038513</td>\n",
       "      <td>0.002182</td>\n",
       "      <td>5.622354e-02</td>\n",
       "      <td>2.819894e-02</td>\n",
       "      <td>1.000000</td>\n",
       "      <td>0.008795</td>\n",
       "      <td>0.120212</td>\n",
       "      <td>-7.728597e-03</td>\n",
       "      <td>-3.097137e-01</td>\n",
       "      <td>-4.129572e-01</td>\n",
       "    </tr>\n",
       "    <tr>\n",
       "      <th>Next_Tmax</th>\n",
       "      <td>1.079826e-01</td>\n",
       "      <td>0.610348</td>\n",
       "      <td>0.471806</td>\n",
       "      <td>-0.437898</td>\n",
       "      <td>-0.281341</td>\n",
       "      <td>0.827548</td>\n",
       "      <td>0.586983</td>\n",
       "      <td>-0.342729</td>\n",
       "      <td>0.157616</td>\n",
       "      <td>-0.454855</td>\n",
       "      <td>...</td>\n",
       "      <td>-0.053510</td>\n",
       "      <td>0.003052</td>\n",
       "      <td>-1.725377e-01</td>\n",
       "      <td>-1.027252e-01</td>\n",
       "      <td>0.008795</td>\n",
       "      <td>1.000000</td>\n",
       "      <td>0.621427</td>\n",
       "      <td>5.999540e-02</td>\n",
       "      <td>-2.681574e-02</td>\n",
       "      <td>-1.167083e-01</td>\n",
       "    </tr>\n",
       "    <tr>\n",
       "      <th>Next_Tmin</th>\n",
       "      <td>1.282934e-01</td>\n",
       "      <td>0.622741</td>\n",
       "      <td>0.796670</td>\n",
       "      <td>0.095019</td>\n",
       "      <td>-0.070246</td>\n",
       "      <td>0.587135</td>\n",
       "      <td>0.880176</td>\n",
       "      <td>-0.096576</td>\n",
       "      <td>-0.055440</td>\n",
       "      <td>-0.012807</td>\n",
       "      <td>...</td>\n",
       "      <td>-0.083533</td>\n",
       "      <td>-0.046603</td>\n",
       "      <td>-2.469056e-01</td>\n",
       "      <td>-1.468820e-01</td>\n",
       "      <td>0.120212</td>\n",
       "      <td>0.621427</td>\n",
       "      <td>1.000000</td>\n",
       "      <td>2.313633e-02</td>\n",
       "      <td>-2.441410e-02</td>\n",
       "      <td>-1.293282e-01</td>\n",
       "    </tr>\n",
       "    <tr>\n",
       "      <th>Year</th>\n",
       "      <td>0.000000e+00</td>\n",
       "      <td>0.059800</td>\n",
       "      <td>0.037396</td>\n",
       "      <td>-0.002045</td>\n",
       "      <td>-0.141805</td>\n",
       "      <td>0.016172</td>\n",
       "      <td>-0.004693</td>\n",
       "      <td>-0.111358</td>\n",
       "      <td>0.057077</td>\n",
       "      <td>-0.066465</td>\n",
       "      <td>...</td>\n",
       "      <td>0.000000</td>\n",
       "      <td>0.000000</td>\n",
       "      <td>4.801019e-18</td>\n",
       "      <td>-1.404294e-18</td>\n",
       "      <td>-0.007729</td>\n",
       "      <td>0.059995</td>\n",
       "      <td>0.023136</td>\n",
       "      <td>1.000000e+00</td>\n",
       "      <td>-5.503315e-18</td>\n",
       "      <td>-1.101367e-18</td>\n",
       "    </tr>\n",
       "    <tr>\n",
       "      <th>Month</th>\n",
       "      <td>2.186980e-17</td>\n",
       "      <td>-0.001148</td>\n",
       "      <td>-0.003424</td>\n",
       "      <td>-0.053942</td>\n",
       "      <td>-0.038897</td>\n",
       "      <td>-0.021519</td>\n",
       "      <td>-0.027490</td>\n",
       "      <td>-0.081310</td>\n",
       "      <td>-0.022758</td>\n",
       "      <td>-0.077361</td>\n",
       "      <td>...</td>\n",
       "      <td>-0.000001</td>\n",
       "      <td>0.000001</td>\n",
       "      <td>-8.647610e-06</td>\n",
       "      <td>-9.371389e-06</td>\n",
       "      <td>-0.309714</td>\n",
       "      <td>-0.026816</td>\n",
       "      <td>-0.024414</td>\n",
       "      <td>-5.503315e-18</td>\n",
       "      <td>1.000000e+00</td>\n",
       "      <td>1.619010e-01</td>\n",
       "    </tr>\n",
       "    <tr>\n",
       "      <th>Day</th>\n",
       "      <td>1.721796e-17</td>\n",
       "      <td>-0.143803</td>\n",
       "      <td>-0.108259</td>\n",
       "      <td>-0.065839</td>\n",
       "      <td>-0.012223</td>\n",
       "      <td>-0.160196</td>\n",
       "      <td>-0.177947</td>\n",
       "      <td>-0.029163</td>\n",
       "      <td>-0.012108</td>\n",
       "      <td>-0.020925</td>\n",
       "      <td>...</td>\n",
       "      <td>-0.000001</td>\n",
       "      <td>0.000002</td>\n",
       "      <td>-1.080407e-05</td>\n",
       "      <td>-1.170833e-05</td>\n",
       "      <td>-0.412957</td>\n",
       "      <td>-0.116708</td>\n",
       "      <td>-0.129328</td>\n",
       "      <td>-1.101367e-18</td>\n",
       "      <td>1.619010e-01</td>\n",
       "      <td>1.000000e+00</td>\n",
       "    </tr>\n",
       "  </tbody>\n",
       "</table>\n",
       "<p>27 rows × 27 columns</p>\n",
       "</div>"
      ],
      "text/plain": [
       "                       station  Present_Tmax  Present_Tmin  LDAPS_RHmin  \\\n",
       "station           1.000000e+00      0.112655      0.131646    -0.066733   \n",
       "Present_Tmax      1.126554e-01      1.000000      0.618760    -0.204571   \n",
       "Present_Tmin      1.316462e-01      0.618760      1.000000     0.123143   \n",
       "LDAPS_RHmin      -6.673316e-02     -0.204571      0.123143     1.000000   \n",
       "LDAPS_RHmax      -1.669531e-01     -0.300322     -0.012754     0.579032   \n",
       "LDAPS_Tmax_lapse  6.910687e-02      0.570345      0.464518    -0.564578   \n",
       "LDAPS_Tmin_lapse  1.047582e-01      0.623496      0.762993     0.089476   \n",
       "LDAPS_WS          5.277000e-03     -0.121820     -0.034675     0.294361   \n",
       "LDAPS_LH         -1.333566e-01      0.135463     -0.009258    -0.070858   \n",
       "LDAPS_CC1         6.917419e-03     -0.313187      0.081988     0.613696   \n",
       "LDAPS_CC2         3.395569e-03     -0.214969      0.088207     0.745340   \n",
       "LDAPS_CC3         6.938517e-04     -0.145577     -0.005466     0.689513   \n",
       "LDAPS_CC4         6.123659e-03     -0.142683     -0.047714     0.513878   \n",
       "LDAPS_PPT1       -2.708269e-03     -0.111129      0.109121     0.262547   \n",
       "LDAPS_PPT2       -8.246528e-03     -0.101377      0.064829     0.390824   \n",
       "LDAPS_PPT3       -1.245767e-02     -0.122044     -0.049005     0.240576   \n",
       "LDAPS_PPT4       -1.039876e-02     -0.101178     -0.065647     0.168555   \n",
       "lat              -2.375015e-01     -0.052615     -0.078475     0.087099   \n",
       "lon              -1.187044e-01      0.009020     -0.043461    -0.076237   \n",
       "DEM              -2.558297e-01     -0.187121     -0.250275     0.102115   \n",
       "Slope            -9.006090e-02     -0.105809     -0.146339     0.123744   \n",
       "Solar radiation  -1.900100e-02     -0.025439      0.053578     0.244080   \n",
       "Next_Tmax         1.079826e-01      0.610348      0.471806    -0.437898   \n",
       "Next_Tmin         1.282934e-01      0.622741      0.796670     0.095019   \n",
       "Year              0.000000e+00      0.059800      0.037396    -0.002045   \n",
       "Month             2.186980e-17     -0.001148     -0.003424    -0.053942   \n",
       "Day               1.721796e-17     -0.143803     -0.108259    -0.065839   \n",
       "\n",
       "                  LDAPS_RHmax  LDAPS_Tmax_lapse  LDAPS_Tmin_lapse  LDAPS_WS  \\\n",
       "station             -0.166953          0.069107          0.104758  0.005277   \n",
       "Present_Tmax        -0.300322          0.570345          0.623496 -0.121820   \n",
       "Present_Tmin        -0.012754          0.464518          0.762993 -0.034675   \n",
       "LDAPS_RHmin          0.579032         -0.564578          0.089476  0.294361   \n",
       "LDAPS_RHmax          1.000000         -0.373274         -0.114121  0.135308   \n",
       "LDAPS_Tmax_lapse    -0.373274          1.000000          0.654018 -0.311994   \n",
       "LDAPS_Tmin_lapse    -0.114121          0.654018          1.000000 -0.130035   \n",
       "LDAPS_WS             0.135308         -0.311994         -0.130035  1.000000   \n",
       "LDAPS_LH             0.238534          0.048010         -0.134761  0.006711   \n",
       "LDAPS_CC1            0.436097         -0.438410          0.010898  0.289388   \n",
       "LDAPS_CC2            0.390879         -0.523594          0.047721  0.261054   \n",
       "LDAPS_CC3            0.226434         -0.541260         -0.044008  0.242933   \n",
       "LDAPS_CC4            0.130008         -0.429456         -0.080304  0.220449   \n",
       "LDAPS_PPT1           0.267698         -0.111105          0.038039  0.152519   \n",
       "LDAPS_PPT2           0.228398         -0.242113          0.000869  0.191816   \n",
       "LDAPS_PPT3           0.134087         -0.188133         -0.088551  0.161639   \n",
       "LDAPS_PPT4           0.117376         -0.160300         -0.094632  0.144050   \n",
       "lat                  0.195761         -0.042093         -0.096257  0.036657   \n",
       "lon                  0.025662          0.090665         -0.026701 -0.059466   \n",
       "DEM                  0.177134         -0.178895         -0.195455  0.191053   \n",
       "Slope                0.219557         -0.162332         -0.185849  0.171629   \n",
       "Solar radiation      0.148259          0.047820          0.159975  0.121759   \n",
       "Next_Tmax           -0.281341          0.827548          0.586983 -0.342729   \n",
       "Next_Tmin           -0.070246          0.587135          0.880176 -0.096576   \n",
       "Year                -0.141805          0.016172         -0.004693 -0.111358   \n",
       "Month               -0.038897         -0.021519         -0.027490 -0.081310   \n",
       "Day                 -0.012223         -0.160196         -0.177947 -0.029163   \n",
       "\n",
       "                  LDAPS_LH  LDAPS_CC1  ...       lat       lon           DEM  \\\n",
       "station          -0.133357   0.006917  ... -0.237502 -0.118704 -2.558297e-01   \n",
       "Present_Tmax      0.135463  -0.313187  ... -0.052615  0.009020 -1.871206e-01   \n",
       "Present_Tmin     -0.009258   0.081988  ... -0.078475 -0.043461 -2.502747e-01   \n",
       "LDAPS_RHmin      -0.070858   0.613696  ...  0.087099 -0.076237  1.021149e-01   \n",
       "LDAPS_RHmax       0.238534   0.436097  ...  0.195761  0.025662  1.771343e-01   \n",
       "LDAPS_Tmax_lapse  0.048010  -0.438410  ... -0.042093  0.090665 -1.788947e-01   \n",
       "LDAPS_Tmin_lapse -0.134761   0.010898  ... -0.096257 -0.026701 -1.954553e-01   \n",
       "LDAPS_WS          0.006711   0.289388  ...  0.036657 -0.059466  1.910530e-01   \n",
       "LDAPS_LH          1.000000  -0.147267  ...  0.133221  0.025822  5.513344e-02   \n",
       "LDAPS_CC1        -0.147267   1.000000  ... -0.008129 -0.006842 -1.408707e-02   \n",
       "LDAPS_CC2        -0.264244   0.779752  ... -0.001497 -0.003581 -1.282108e-02   \n",
       "LDAPS_CC3        -0.245524   0.517702  ...  0.004107  0.016037  6.975057e-04   \n",
       "LDAPS_CC4        -0.172700   0.361386  ... -0.009103 -0.002476 -7.330735e-03   \n",
       "LDAPS_PPT1       -0.012536   0.446635  ...  0.000565 -0.001225  1.128602e-02   \n",
       "LDAPS_PPT2       -0.077516   0.389771  ...  0.019557  0.018593  8.354157e-03   \n",
       "LDAPS_PPT3        0.016098   0.169130  ...  0.035101  0.021656  1.718185e-02   \n",
       "LDAPS_PPT4        0.019974   0.092119  ...  0.013207  0.044735 -3.620842e-03   \n",
       "lat               0.133221  -0.008129  ...  1.000000  0.289029  3.316548e-02   \n",
       "lon               0.025822  -0.006842  ...  0.289029  1.000000  7.586860e-03   \n",
       "DEM               0.055133  -0.014087  ...  0.033165  0.007587  1.000000e+00   \n",
       "Slope             0.086781  -0.020747  ...  0.074763  0.038070  7.835760e-01   \n",
       "Solar radiation  -0.047384   0.219264  ...  0.038513  0.002182  5.622354e-02   \n",
       "Next_Tmax         0.157616  -0.454855  ... -0.053510  0.003052 -1.725377e-01   \n",
       "Next_Tmin        -0.055440  -0.012807  ... -0.083533 -0.046603 -2.469056e-01   \n",
       "Year              0.057077  -0.066465  ...  0.000000  0.000000  4.801019e-18   \n",
       "Month            -0.022758  -0.077361  ... -0.000001  0.000001 -8.647610e-06   \n",
       "Day              -0.012108  -0.020925  ... -0.000001  0.000002 -1.080407e-05   \n",
       "\n",
       "                         Slope  Solar radiation  Next_Tmax  Next_Tmin  \\\n",
       "station          -9.006090e-02        -0.019001   0.107983   0.128293   \n",
       "Present_Tmax     -1.058092e-01        -0.025439   0.610348   0.622741   \n",
       "Present_Tmin     -1.463390e-01         0.053578   0.471806   0.796670   \n",
       "LDAPS_RHmin       1.237439e-01         0.244080  -0.437898   0.095019   \n",
       "LDAPS_RHmax       2.195571e-01         0.148259  -0.281341  -0.070246   \n",
       "LDAPS_Tmax_lapse -1.623317e-01         0.047820   0.827548   0.587135   \n",
       "LDAPS_Tmin_lapse -1.858487e-01         0.159975   0.586983   0.880176   \n",
       "LDAPS_WS          1.716286e-01         0.121759  -0.342729  -0.096576   \n",
       "LDAPS_LH          8.678088e-02        -0.047384   0.157616  -0.055440   \n",
       "LDAPS_CC1        -2.074738e-02         0.219264  -0.454855  -0.012807   \n",
       "LDAPS_CC2        -1.807006e-02         0.171215  -0.492699   0.029756   \n",
       "LDAPS_CC3        -3.336889e-03         0.120365  -0.517207  -0.056678   \n",
       "LDAPS_CC4        -1.445305e-02         0.121326  -0.449490  -0.087537   \n",
       "LDAPS_PPT1        1.630339e-02         0.089477  -0.122379   0.018633   \n",
       "LDAPS_PPT2        1.021134e-02         0.111500  -0.181587  -0.010478   \n",
       "LDAPS_PPT3        2.532668e-02        -0.052874  -0.196935  -0.064714   \n",
       "LDAPS_PPT4        1.179225e-04         0.036052  -0.181329  -0.105624   \n",
       "lat               7.476266e-02         0.038513  -0.053510  -0.083533   \n",
       "lon               3.806989e-02         0.002182   0.003052  -0.046603   \n",
       "DEM               7.835760e-01         0.056224  -0.172538  -0.246906   \n",
       "Slope             1.000000e+00         0.028199  -0.102725  -0.146882   \n",
       "Solar radiation   2.819894e-02         1.000000   0.008795   0.120212   \n",
       "Next_Tmax        -1.027252e-01         0.008795   1.000000   0.621427   \n",
       "Next_Tmin        -1.468820e-01         0.120212   0.621427   1.000000   \n",
       "Year             -1.404294e-18        -0.007729   0.059995   0.023136   \n",
       "Month            -9.371389e-06        -0.309714  -0.026816  -0.024414   \n",
       "Day              -1.170833e-05        -0.412957  -0.116708  -0.129328   \n",
       "\n",
       "                          Year         Month           Day  \n",
       "station           0.000000e+00  2.186980e-17  1.721796e-17  \n",
       "Present_Tmax      5.980007e-02 -1.147705e-03 -1.438031e-01  \n",
       "Present_Tmin      3.739568e-02 -3.424069e-03 -1.082594e-01  \n",
       "LDAPS_RHmin      -2.044507e-03 -5.394173e-02 -6.583900e-02  \n",
       "LDAPS_RHmax      -1.418053e-01 -3.889740e-02 -1.222295e-02  \n",
       "LDAPS_Tmax_lapse  1.617209e-02 -2.151881e-02 -1.601958e-01  \n",
       "LDAPS_Tmin_lapse -4.693413e-03 -2.748957e-02 -1.779467e-01  \n",
       "LDAPS_WS         -1.113577e-01 -8.131024e-02 -2.916284e-02  \n",
       "LDAPS_LH          5.707733e-02 -2.275811e-02 -1.210779e-02  \n",
       "LDAPS_CC1        -6.646482e-02 -7.736128e-02 -2.092459e-02  \n",
       "LDAPS_CC2        -4.325023e-02 -9.158320e-02  3.200792e-03  \n",
       "LDAPS_CC3         1.104537e-01 -3.695925e-02 -5.399812e-02  \n",
       "LDAPS_CC4         1.041712e-01 -1.832629e-02 -4.440384e-02  \n",
       "LDAPS_PPT1       -8.893853e-02 -3.083454e-02 -2.166122e-02  \n",
       "LDAPS_PPT2       -4.285713e-02 -4.516448e-02 -2.758966e-03  \n",
       "LDAPS_PPT3        4.716006e-02  3.433106e-02 -6.626646e-03  \n",
       "LDAPS_PPT4        3.796420e-02 -7.181900e-02 -2.341028e-02  \n",
       "lat               0.000000e+00 -1.085497e-06 -1.356187e-06  \n",
       "lon               0.000000e+00  1.275492e-06  1.593562e-06  \n",
       "DEM               4.801019e-18 -8.647610e-06 -1.080407e-05  \n",
       "Slope            -1.404294e-18 -9.371389e-06 -1.170833e-05  \n",
       "Solar radiation  -7.728597e-03 -3.097137e-01 -4.129572e-01  \n",
       "Next_Tmax         5.999540e-02 -2.681574e-02 -1.167083e-01  \n",
       "Next_Tmin         2.313633e-02 -2.441410e-02 -1.293282e-01  \n",
       "Year              1.000000e+00 -5.503315e-18 -1.101367e-18  \n",
       "Month            -5.503315e-18  1.000000e+00  1.619010e-01  \n",
       "Day              -1.101367e-18  1.619010e-01  1.000000e+00  \n",
       "\n",
       "[27 rows x 27 columns]"
      ]
     },
     "execution_count": 63,
     "metadata": {},
     "output_type": "execute_result"
    }
   ],
   "source": [
    "data.corr()\n",
    "\n"
   ]
  },
  {
   "cell_type": "code",
   "execution_count": null,
   "metadata": {},
   "outputs": [],
   "source": []
  },
  {
   "cell_type": "code",
   "execution_count": 69,
   "metadata": {},
   "outputs": [
    {
     "data": {
      "text/plain": [
       "Index(['station', 'Present_Tmax', 'Present_Tmin', 'LDAPS_RHmin', 'LDAPS_RHmax',\n",
       "       'LDAPS_Tmax_lapse', 'LDAPS_Tmin_lapse', 'LDAPS_WS', 'LDAPS_LH',\n",
       "       'LDAPS_CC1', 'LDAPS_CC2', 'LDAPS_CC3', 'LDAPS_CC4', 'LDAPS_PPT1',\n",
       "       'LDAPS_PPT2', 'LDAPS_PPT3', 'LDAPS_PPT4', 'lat', 'lon', 'DEM', 'Slope',\n",
       "       'Solar radiation', 'Next_Tmax', 'Next_Tmin', 'Year', 'Month', 'Day'],\n",
       "      dtype='object')"
      ]
     },
     "execution_count": 69,
     "metadata": {},
     "output_type": "execute_result"
    }
   ],
   "source": [
    "data.columns"
   ]
  },
  {
   "cell_type": "markdown",
   "metadata": {},
   "source": [
    "# We can try our model with Target Next_Tmax"
   ]
  },
  {
   "cell_type": "code",
   "execution_count": 58,
   "metadata": {},
   "outputs": [],
   "source": [
    "# now next step is to divide the data into features and labels."
   ]
  },
  {
   "cell_type": "code",
   "execution_count": 70,
   "metadata": {},
   "outputs": [],
   "source": [
    "y = data['Next_Tmax']\n",
    "x = data.drop(columns = ['Next_Tmax','Next_Tmin'])"
   ]
  },
  {
   "cell_type": "code",
   "execution_count": 71,
   "metadata": {},
   "outputs": [
    {
     "data": {
      "text/html": [
       "<div>\n",
       "<style scoped>\n",
       "    .dataframe tbody tr th:only-of-type {\n",
       "        vertical-align: middle;\n",
       "    }\n",
       "\n",
       "    .dataframe tbody tr th {\n",
       "        vertical-align: top;\n",
       "    }\n",
       "\n",
       "    .dataframe thead th {\n",
       "        text-align: right;\n",
       "    }\n",
       "</style>\n",
       "<table border=\"1\" class=\"dataframe\">\n",
       "  <thead>\n",
       "    <tr style=\"text-align: right;\">\n",
       "      <th></th>\n",
       "      <th>station</th>\n",
       "      <th>Present_Tmax</th>\n",
       "      <th>Present_Tmin</th>\n",
       "      <th>LDAPS_RHmin</th>\n",
       "      <th>LDAPS_RHmax</th>\n",
       "      <th>LDAPS_Tmax_lapse</th>\n",
       "      <th>LDAPS_Tmin_lapse</th>\n",
       "      <th>LDAPS_WS</th>\n",
       "      <th>LDAPS_LH</th>\n",
       "      <th>LDAPS_CC1</th>\n",
       "      <th>...</th>\n",
       "      <th>LDAPS_PPT3</th>\n",
       "      <th>LDAPS_PPT4</th>\n",
       "      <th>lat</th>\n",
       "      <th>lon</th>\n",
       "      <th>DEM</th>\n",
       "      <th>Slope</th>\n",
       "      <th>Solar radiation</th>\n",
       "      <th>Year</th>\n",
       "      <th>Month</th>\n",
       "      <th>Day</th>\n",
       "    </tr>\n",
       "  </thead>\n",
       "  <tbody>\n",
       "    <tr>\n",
       "      <th>0</th>\n",
       "      <td>1.0</td>\n",
       "      <td>28.7</td>\n",
       "      <td>21.4</td>\n",
       "      <td>58.255688</td>\n",
       "      <td>91.116364</td>\n",
       "      <td>28.074101</td>\n",
       "      <td>23.006936</td>\n",
       "      <td>6.818887</td>\n",
       "      <td>69.451805</td>\n",
       "      <td>0.233947</td>\n",
       "      <td>...</td>\n",
       "      <td>0.000000</td>\n",
       "      <td>0.000000</td>\n",
       "      <td>37.6046</td>\n",
       "      <td>126.991</td>\n",
       "      <td>212.3350</td>\n",
       "      <td>2.785000</td>\n",
       "      <td>5992.895996</td>\n",
       "      <td>2013.0</td>\n",
       "      <td>6.0</td>\n",
       "      <td>30.0</td>\n",
       "    </tr>\n",
       "    <tr>\n",
       "      <th>1</th>\n",
       "      <td>2.0</td>\n",
       "      <td>31.9</td>\n",
       "      <td>21.6</td>\n",
       "      <td>52.263397</td>\n",
       "      <td>90.604721</td>\n",
       "      <td>29.850689</td>\n",
       "      <td>24.035009</td>\n",
       "      <td>5.691890</td>\n",
       "      <td>51.937448</td>\n",
       "      <td>0.225508</td>\n",
       "      <td>...</td>\n",
       "      <td>0.000000</td>\n",
       "      <td>0.000000</td>\n",
       "      <td>37.6046</td>\n",
       "      <td>127.032</td>\n",
       "      <td>44.7624</td>\n",
       "      <td>0.514100</td>\n",
       "      <td>5869.312500</td>\n",
       "      <td>2013.0</td>\n",
       "      <td>6.0</td>\n",
       "      <td>30.0</td>\n",
       "    </tr>\n",
       "    <tr>\n",
       "      <th>2</th>\n",
       "      <td>3.0</td>\n",
       "      <td>31.6</td>\n",
       "      <td>23.3</td>\n",
       "      <td>48.690479</td>\n",
       "      <td>83.973587</td>\n",
       "      <td>30.091292</td>\n",
       "      <td>24.565633</td>\n",
       "      <td>6.138224</td>\n",
       "      <td>20.573050</td>\n",
       "      <td>0.209344</td>\n",
       "      <td>...</td>\n",
       "      <td>0.000000</td>\n",
       "      <td>0.000000</td>\n",
       "      <td>37.5776</td>\n",
       "      <td>127.058</td>\n",
       "      <td>33.3068</td>\n",
       "      <td>0.266100</td>\n",
       "      <td>5863.555664</td>\n",
       "      <td>2013.0</td>\n",
       "      <td>6.0</td>\n",
       "      <td>30.0</td>\n",
       "    </tr>\n",
       "    <tr>\n",
       "      <th>3</th>\n",
       "      <td>4.0</td>\n",
       "      <td>32.0</td>\n",
       "      <td>23.4</td>\n",
       "      <td>58.239788</td>\n",
       "      <td>96.483688</td>\n",
       "      <td>29.704629</td>\n",
       "      <td>23.326177</td>\n",
       "      <td>5.650050</td>\n",
       "      <td>65.727144</td>\n",
       "      <td>0.216372</td>\n",
       "      <td>...</td>\n",
       "      <td>0.000000</td>\n",
       "      <td>0.000000</td>\n",
       "      <td>37.6450</td>\n",
       "      <td>127.022</td>\n",
       "      <td>45.7160</td>\n",
       "      <td>2.534800</td>\n",
       "      <td>5856.964844</td>\n",
       "      <td>2013.0</td>\n",
       "      <td>6.0</td>\n",
       "      <td>30.0</td>\n",
       "    </tr>\n",
       "    <tr>\n",
       "      <th>4</th>\n",
       "      <td>5.0</td>\n",
       "      <td>31.4</td>\n",
       "      <td>21.9</td>\n",
       "      <td>56.174095</td>\n",
       "      <td>90.155128</td>\n",
       "      <td>29.113934</td>\n",
       "      <td>23.486480</td>\n",
       "      <td>5.735004</td>\n",
       "      <td>107.965535</td>\n",
       "      <td>0.151407</td>\n",
       "      <td>...</td>\n",
       "      <td>0.000000</td>\n",
       "      <td>0.000000</td>\n",
       "      <td>37.5507</td>\n",
       "      <td>127.135</td>\n",
       "      <td>35.0380</td>\n",
       "      <td>0.505500</td>\n",
       "      <td>5859.552246</td>\n",
       "      <td>2013.0</td>\n",
       "      <td>6.0</td>\n",
       "      <td>30.0</td>\n",
       "    </tr>\n",
       "    <tr>\n",
       "      <th>...</th>\n",
       "      <td>...</td>\n",
       "      <td>...</td>\n",
       "      <td>...</td>\n",
       "      <td>...</td>\n",
       "      <td>...</td>\n",
       "      <td>...</td>\n",
       "      <td>...</td>\n",
       "      <td>...</td>\n",
       "      <td>...</td>\n",
       "      <td>...</td>\n",
       "      <td>...</td>\n",
       "      <td>...</td>\n",
       "      <td>...</td>\n",
       "      <td>...</td>\n",
       "      <td>...</td>\n",
       "      <td>...</td>\n",
       "      <td>...</td>\n",
       "      <td>...</td>\n",
       "      <td>...</td>\n",
       "      <td>...</td>\n",
       "      <td>...</td>\n",
       "    </tr>\n",
       "    <tr>\n",
       "      <th>7747</th>\n",
       "      <td>23.0</td>\n",
       "      <td>23.3</td>\n",
       "      <td>17.1</td>\n",
       "      <td>26.741310</td>\n",
       "      <td>78.869858</td>\n",
       "      <td>26.352081</td>\n",
       "      <td>18.775678</td>\n",
       "      <td>6.148918</td>\n",
       "      <td>72.058294</td>\n",
       "      <td>0.030034</td>\n",
       "      <td>...</td>\n",
       "      <td>0.000000</td>\n",
       "      <td>0.000000</td>\n",
       "      <td>37.5372</td>\n",
       "      <td>126.891</td>\n",
       "      <td>15.5876</td>\n",
       "      <td>0.155400</td>\n",
       "      <td>4443.313965</td>\n",
       "      <td>2017.0</td>\n",
       "      <td>8.0</td>\n",
       "      <td>30.0</td>\n",
       "    </tr>\n",
       "    <tr>\n",
       "      <th>7748</th>\n",
       "      <td>24.0</td>\n",
       "      <td>23.3</td>\n",
       "      <td>17.7</td>\n",
       "      <td>24.040634</td>\n",
       "      <td>77.294975</td>\n",
       "      <td>27.010193</td>\n",
       "      <td>18.733519</td>\n",
       "      <td>6.542819</td>\n",
       "      <td>47.241457</td>\n",
       "      <td>0.035874</td>\n",
       "      <td>...</td>\n",
       "      <td>0.000000</td>\n",
       "      <td>0.000000</td>\n",
       "      <td>37.5237</td>\n",
       "      <td>126.909</td>\n",
       "      <td>17.2956</td>\n",
       "      <td>0.222300</td>\n",
       "      <td>4438.373535</td>\n",
       "      <td>2017.0</td>\n",
       "      <td>8.0</td>\n",
       "      <td>30.0</td>\n",
       "    </tr>\n",
       "    <tr>\n",
       "      <th>7749</th>\n",
       "      <td>25.0</td>\n",
       "      <td>23.2</td>\n",
       "      <td>17.4</td>\n",
       "      <td>22.933014</td>\n",
       "      <td>77.243744</td>\n",
       "      <td>27.939516</td>\n",
       "      <td>18.522965</td>\n",
       "      <td>7.289264</td>\n",
       "      <td>9.090034</td>\n",
       "      <td>0.048954</td>\n",
       "      <td>...</td>\n",
       "      <td>0.000000</td>\n",
       "      <td>0.000000</td>\n",
       "      <td>37.5237</td>\n",
       "      <td>126.970</td>\n",
       "      <td>19.5844</td>\n",
       "      <td>0.271300</td>\n",
       "      <td>4451.345215</td>\n",
       "      <td>2017.0</td>\n",
       "      <td>8.0</td>\n",
       "      <td>30.0</td>\n",
       "    </tr>\n",
       "    <tr>\n",
       "      <th>7750</th>\n",
       "      <td>13.0</td>\n",
       "      <td>20.0</td>\n",
       "      <td>11.3</td>\n",
       "      <td>19.794666</td>\n",
       "      <td>58.936283</td>\n",
       "      <td>17.624954</td>\n",
       "      <td>14.272646</td>\n",
       "      <td>2.882580</td>\n",
       "      <td>-13.603212</td>\n",
       "      <td>0.000000</td>\n",
       "      <td>...</td>\n",
       "      <td>0.000000</td>\n",
       "      <td>0.000000</td>\n",
       "      <td>37.4562</td>\n",
       "      <td>126.826</td>\n",
       "      <td>12.3700</td>\n",
       "      <td>0.098475</td>\n",
       "      <td>4329.520508</td>\n",
       "      <td>2015.0</td>\n",
       "      <td>7.0</td>\n",
       "      <td>16.0</td>\n",
       "    </tr>\n",
       "    <tr>\n",
       "      <th>7751</th>\n",
       "      <td>13.0</td>\n",
       "      <td>37.6</td>\n",
       "      <td>29.9</td>\n",
       "      <td>98.524734</td>\n",
       "      <td>100.000153</td>\n",
       "      <td>38.542255</td>\n",
       "      <td>29.619342</td>\n",
       "      <td>21.857621</td>\n",
       "      <td>213.414006</td>\n",
       "      <td>0.967277</td>\n",
       "      <td>...</td>\n",
       "      <td>15.841235</td>\n",
       "      <td>16.655469</td>\n",
       "      <td>37.6450</td>\n",
       "      <td>127.135</td>\n",
       "      <td>212.3350</td>\n",
       "      <td>5.178230</td>\n",
       "      <td>5992.895996</td>\n",
       "      <td>2015.0</td>\n",
       "      <td>7.0</td>\n",
       "      <td>16.0</td>\n",
       "    </tr>\n",
       "  </tbody>\n",
       "</table>\n",
       "<p>7752 rows × 25 columns</p>\n",
       "</div>"
      ],
      "text/plain": [
       "      station  Present_Tmax  Present_Tmin  LDAPS_RHmin  LDAPS_RHmax  \\\n",
       "0         1.0          28.7          21.4    58.255688    91.116364   \n",
       "1         2.0          31.9          21.6    52.263397    90.604721   \n",
       "2         3.0          31.6          23.3    48.690479    83.973587   \n",
       "3         4.0          32.0          23.4    58.239788    96.483688   \n",
       "4         5.0          31.4          21.9    56.174095    90.155128   \n",
       "...       ...           ...           ...          ...          ...   \n",
       "7747     23.0          23.3          17.1    26.741310    78.869858   \n",
       "7748     24.0          23.3          17.7    24.040634    77.294975   \n",
       "7749     25.0          23.2          17.4    22.933014    77.243744   \n",
       "7750     13.0          20.0          11.3    19.794666    58.936283   \n",
       "7751     13.0          37.6          29.9    98.524734   100.000153   \n",
       "\n",
       "      LDAPS_Tmax_lapse  LDAPS_Tmin_lapse   LDAPS_WS    LDAPS_LH  LDAPS_CC1  \\\n",
       "0            28.074101         23.006936   6.818887   69.451805   0.233947   \n",
       "1            29.850689         24.035009   5.691890   51.937448   0.225508   \n",
       "2            30.091292         24.565633   6.138224   20.573050   0.209344   \n",
       "3            29.704629         23.326177   5.650050   65.727144   0.216372   \n",
       "4            29.113934         23.486480   5.735004  107.965535   0.151407   \n",
       "...                ...               ...        ...         ...        ...   \n",
       "7747         26.352081         18.775678   6.148918   72.058294   0.030034   \n",
       "7748         27.010193         18.733519   6.542819   47.241457   0.035874   \n",
       "7749         27.939516         18.522965   7.289264    9.090034   0.048954   \n",
       "7750         17.624954         14.272646   2.882580  -13.603212   0.000000   \n",
       "7751         38.542255         29.619342  21.857621  213.414006   0.967277   \n",
       "\n",
       "      ...  LDAPS_PPT3  LDAPS_PPT4      lat      lon       DEM     Slope  \\\n",
       "0     ...    0.000000    0.000000  37.6046  126.991  212.3350  2.785000   \n",
       "1     ...    0.000000    0.000000  37.6046  127.032   44.7624  0.514100   \n",
       "2     ...    0.000000    0.000000  37.5776  127.058   33.3068  0.266100   \n",
       "3     ...    0.000000    0.000000  37.6450  127.022   45.7160  2.534800   \n",
       "4     ...    0.000000    0.000000  37.5507  127.135   35.0380  0.505500   \n",
       "...   ...         ...         ...      ...      ...       ...       ...   \n",
       "7747  ...    0.000000    0.000000  37.5372  126.891   15.5876  0.155400   \n",
       "7748  ...    0.000000    0.000000  37.5237  126.909   17.2956  0.222300   \n",
       "7749  ...    0.000000    0.000000  37.5237  126.970   19.5844  0.271300   \n",
       "7750  ...    0.000000    0.000000  37.4562  126.826   12.3700  0.098475   \n",
       "7751  ...   15.841235   16.655469  37.6450  127.135  212.3350  5.178230   \n",
       "\n",
       "      Solar radiation    Year  Month   Day  \n",
       "0         5992.895996  2013.0    6.0  30.0  \n",
       "1         5869.312500  2013.0    6.0  30.0  \n",
       "2         5863.555664  2013.0    6.0  30.0  \n",
       "3         5856.964844  2013.0    6.0  30.0  \n",
       "4         5859.552246  2013.0    6.0  30.0  \n",
       "...               ...     ...    ...   ...  \n",
       "7747      4443.313965  2017.0    8.0  30.0  \n",
       "7748      4438.373535  2017.0    8.0  30.0  \n",
       "7749      4451.345215  2017.0    8.0  30.0  \n",
       "7750      4329.520508  2015.0    7.0  16.0  \n",
       "7751      5992.895996  2015.0    7.0  16.0  \n",
       "\n",
       "[7752 rows x 25 columns]"
      ]
     },
     "execution_count": 71,
     "metadata": {},
     "output_type": "execute_result"
    }
   ],
   "source": [
    "x"
   ]
  },
  {
   "cell_type": "code",
   "execution_count": 72,
   "metadata": {},
   "outputs": [
    {
     "data": {
      "text/plain": [
       "0       29.1\n",
       "1       30.5\n",
       "2       31.1\n",
       "3       31.7\n",
       "4       31.2\n",
       "        ... \n",
       "7747    28.3\n",
       "7748    28.6\n",
       "7749    27.8\n",
       "7750    17.4\n",
       "7751    38.9\n",
       "Name: Next_Tmax, Length: 7752, dtype: float64"
      ]
     },
     "execution_count": 72,
     "metadata": {},
     "output_type": "execute_result"
    }
   ],
   "source": [
    "y"
   ]
  },
  {
   "cell_type": "code",
   "execution_count": 76,
   "metadata": {},
   "outputs": [
    {
     "data": {
      "image/png": "[encoded data removed]",
      "text/plain": [
       "<Figure size 1080x2160 with 25 Axes>"
      ]
     },
     "metadata": {},
     "output_type": "display_data"
    }
   ],
   "source": [
    "plt.figure(figsize = (15,30),facecolor = 'white')\n",
    "plotnumber = 1\n",
    "\n",
    "for column in x:\n",
    "    if plotnumber <=27:\n",
    "        ax = plt.subplot(14,2,plotnumber)\n",
    "        plt.scatter(x[column],y)\n",
    "        plt.xlabel(column,fontsize=20)\n",
    "        plt.ylabel('Next_Tmax',fontsize=20)\n",
    "    plotnumber +=1\n",
    "plt.tight_layout()\n",
    "\n"
   ]
  },
  {
   "cell_type": "code",
   "execution_count": 67,
   "metadata": {},
   "outputs": [],
   "source": [
    "from sklearn.preprocessing import StandardScaler\n",
    "from sklearn.linear_model import LinearRegression\n",
    "from sklearn.model_selection import train_test_split"
   ]
  },
  {
   "cell_type": "code",
   "execution_count": 77,
   "metadata": {},
   "outputs": [],
   "source": [
    "scaler = StandardScaler()\n",
    "\n",
    "x_scaled = scaler.fit_transform(x)"
   ]
  },
  {
   "cell_type": "code",
   "execution_count": 78,
   "metadata": {},
   "outputs": [
    {
     "data": {
      "text/plain": [
       "array([[-1.6643153 , -0.36132577, -0.75952931, ..., -1.41439603,\n",
       "        -0.48286762,  1.65407295],\n",
       "       [-1.52562236,  0.72108401, -0.6762959 , ..., -1.41439603,\n",
       "        -0.48286762,  1.65407295],\n",
       "       [-1.38692941,  0.61960809,  0.03118815, ..., -1.41439603,\n",
       "        -0.48286762,  1.65407295],\n",
       "       ...,\n",
       "       [ 1.6643153 , -2.22171758, -2.42419767, ...,  1.41439603,\n",
       "         0.41081503,  1.65407295],\n",
       "       [ 0.        , -3.30412736, -4.9628169 , ...,  0.        ,\n",
       "        -0.03602629, -0.04501017],\n",
       "       [ 0.        ,  2.64912642,  2.77789093, ...,  0.        ,\n",
       "        -0.03602629, -0.04501017]])"
      ]
     },
     "execution_count": 78,
     "metadata": {},
     "output_type": "execute_result"
    }
   ],
   "source": [
    "x_scaled"
   ]
  },
  {
   "cell_type": "code",
   "execution_count": 79,
   "metadata": {},
   "outputs": [
    {
     "data": {
      "text/plain": [
       "5000    25.9\n",
       "509     28.1\n",
       "6963    27.5\n",
       "2043    32.6\n",
       "1300    30.4\n",
       "Name: Next_Tmax, dtype: float64"
      ]
     },
     "execution_count": 79,
     "metadata": {},
     "output_type": "execute_result"
    }
   ],
   "source": [
    "x_train,x_test,y_train,y_test = train_test_split(x_scaled,y,test_size=0.25,random_state=21)\n",
    "y_train.head()"
   ]
  },
  {
   "cell_type": "code",
   "execution_count": 80,
   "metadata": {},
   "outputs": [
    {
     "data": {
      "text/plain": [
       "LinearRegression()"
      ]
     },
     "execution_count": 80,
     "metadata": {},
     "output_type": "execute_result"
    }
   ],
   "source": [
    "regression = LinearRegression()\n",
    "regression.fit(x_train,y_train)"
   ]
  },
  {
   "cell_type": "code",
   "execution_count": 81,
   "metadata": {},
   "outputs": [
    {
     "data": {
      "text/plain": [
       "0.772585924626982"
      ]
     },
     "execution_count": 81,
     "metadata": {},
     "output_type": "execute_result"
    }
   ],
   "source": [
    "# Adjusted R2 score\n",
    "regression.score(x_train,y_train)"
   ]
  },
  {
   "cell_type": "code",
   "execution_count": 82,
   "metadata": {},
   "outputs": [
    {
     "data": {
      "text/plain": [
       "0.768780561672005"
      ]
     },
     "execution_count": 82,
     "metadata": {},
     "output_type": "execute_result"
    }
   ],
   "source": [
    "#Lets check how model fits to test data.\n",
    "regression.score(x_test,y_test)"
   ]
  },
  {
   "cell_type": "code",
   "execution_count": 83,
   "metadata": {},
   "outputs": [],
   "source": [
    "y_pred = regression.predict(x_test)"
   ]
  },
  {
   "cell_type": "code",
   "execution_count": 84,
   "metadata": {},
   "outputs": [
    {
     "data": {
      "text/plain": [
       "array([30.29015035, 28.35472479, 30.07282033, ..., 31.85203733,\n",
       "       31.5572677 , 33.17120978])"
      ]
     },
     "execution_count": 84,
     "metadata": {},
     "output_type": "execute_result"
    }
   ],
   "source": [
    "y_pred"
   ]
  },
  {
   "cell_type": "code",
   "execution_count": 85,
   "metadata": {},
   "outputs": [
    {
     "name": "stdout",
     "output_type": "stream",
     "text": [
      "0.768780561672005\n"
     ]
    }
   ],
   "source": [
    "from sklearn.metrics import r2_score\n",
    "print(r2_score(y_test,y_pred))"
   ]
  },
  {
   "cell_type": "markdown",
   "metadata": {},
   "source": [
    "# Regularisation"
   ]
  },
  {
   "cell_type": "code",
   "execution_count": 86,
   "metadata": {},
   "outputs": [],
   "source": [
    "from sklearn.model_selection import GridSearchCV\n",
    "from sklearn.model_selection import cross_val_score\n",
    "import warnings\n",
    "warnings.filterwarnings('ignore')\n",
    "from sklearn.linear_model import Lasso"
   ]
  },
  {
   "cell_type": "code",
   "execution_count": 87,
   "metadata": {},
   "outputs": [
    {
     "name": "stdout",
     "output_type": "stream",
     "text": [
      "{'alpha': 0.001, 'random_state': 0}\n"
     ]
    }
   ],
   "source": [
    "parameters = {'alpha':[.0001,.001,.01,1,10],'random_state':list(range(0,10))}\n",
    "ls=Lasso()\n",
    "clf=GridSearchCV(ls,parameters)\n",
    "clf.fit(x_train,y_train)\n",
    "\n",
    "print(clf.best_params_)"
   ]
  },
  {
   "cell_type": "code",
   "execution_count": 88,
   "metadata": {},
   "outputs": [
    {
     "data": {
      "text/plain": [
       "0.7688071730909309"
      ]
     },
     "execution_count": 88,
     "metadata": {},
     "output_type": "execute_result"
    }
   ],
   "source": [
    "ls= Lasso(alpha=0.001,random_state=0)\n",
    "ls.fit(x_train,y_train)\n",
    "ls.score(x_train,y_train)\n",
    "pred_ls=ls.predict(x_test)\n",
    "\n",
    "lss= r2_score(y_test,pred_ls)\n",
    "lss"
   ]
  },
  {
   "cell_type": "code",
   "execution_count": 89,
   "metadata": {},
   "outputs": [
    {
     "data": {
      "text/plain": [
       "0.6854539934158327"
      ]
     },
     "execution_count": 89,
     "metadata": {},
     "output_type": "execute_result"
    }
   ],
   "source": [
    "cv_score = cross_val_score(ls,x,y,cv=5)\n",
    "cv_mean=cv_score.mean()\n",
    "cv_mean\n"
   ]
  },
  {
   "cell_type": "markdown",
   "metadata": {},
   "source": [
    "# Ensemble Techniques"
   ]
  },
  {
   "cell_type": "code",
   "execution_count": 90,
   "metadata": {},
   "outputs": [
    {
     "name": "stdout",
     "output_type": "stream",
     "text": [
      "{'criterion': 'mse', 'max_features': 'sqrt'}\n"
     ]
    }
   ],
   "source": [
    "from sklearn.ensemble import RandomForestRegressor\n",
    "\n",
    "parameters={'criterion':['mse','mae'],'max_features':['auto','sqrt','log2']}\n",
    "rf=RandomForestRegressor()\n",
    "clf=GridSearchCV(rf,parameters)\n",
    "clf.fit(x_train,y_train)\n",
    "\n",
    "print(clf.best_params_)"
   ]
  },
  {
   "cell_type": "code",
   "execution_count": 92,
   "metadata": {},
   "outputs": [
    {
     "name": "stdout",
     "output_type": "stream",
     "text": [
      "R2 Score: 92.27260515882017\n",
      "Cross_Val_Score: 67.46631977855462\n"
     ]
    }
   ],
   "source": [
    "rf=RandomForestRegressor(criterion='mse', max_features='sqrt')\n",
    "rf.fit(x_train,y_train)\n",
    "rf.score(x_train,y_train)\n",
    "pred_decision=rf.predict(x_test)\n",
    "\n",
    "\n",
    "rfs= r2_score(y_test,pred_decision)\n",
    "print('R2 Score:',rfs*100)\n",
    "\n",
    "rfscore=cross_val_score(rf,x,y,cv=5)\n",
    "rfc=rfscore.mean()\n",
    "\n",
    "print('Cross_Val_Score:',rfc*100)\n"
   ]
  },
  {
   "cell_type": "code",
   "execution_count": null,
   "metadata": {},
   "outputs": [],
   "source": [
    "we get more accuracy by using random forest regressor then linear regression \n",
    "is 92.27%"
   ]
  },
  {
   "cell_type": "code",
   "execution_count": 94,
   "metadata": {},
   "outputs": [],
   "source": [
    "#Now take another target variable  Next_Tmin"
   ]
  },
  {
   "cell_type": "code",
   "execution_count": 95,
   "metadata": {},
   "outputs": [],
   "source": [
    "y = data['Next_Tmin']\n",
    "x = data.drop(columns = ['Next_Tmax','Next_Tmin'])"
   ]
  },
  {
   "cell_type": "code",
   "execution_count": 96,
   "metadata": {},
   "outputs": [
    {
     "data": {
      "text/html": [
       "<div>\n",
       "<style scoped>\n",
       "    .dataframe tbody tr th:only-of-type {\n",
       "        vertical-align: middle;\n",
       "    }\n",
       "\n",
       "    .dataframe tbody tr th {\n",
       "        vertical-align: top;\n",
       "    }\n",
       "\n",
       "    .dataframe thead th {\n",
       "        text-align: right;\n",
       "    }\n",
       "</style>\n",
       "<table border=\"1\" class=\"dataframe\">\n",
       "  <thead>\n",
       "    <tr style=\"text-align: right;\">\n",
       "      <th></th>\n",
       "      <th>station</th>\n",
       "      <th>Present_Tmax</th>\n",
       "      <th>Present_Tmin</th>\n",
       "      <th>LDAPS_RHmin</th>\n",
       "      <th>LDAPS_RHmax</th>\n",
       "      <th>LDAPS_Tmax_lapse</th>\n",
       "      <th>LDAPS_Tmin_lapse</th>\n",
       "      <th>LDAPS_WS</th>\n",
       "      <th>LDAPS_LH</th>\n",
       "      <th>LDAPS_CC1</th>\n",
       "      <th>...</th>\n",
       "      <th>LDAPS_PPT3</th>\n",
       "      <th>LDAPS_PPT4</th>\n",
       "      <th>lat</th>\n",
       "      <th>lon</th>\n",
       "      <th>DEM</th>\n",
       "      <th>Slope</th>\n",
       "      <th>Solar radiation</th>\n",
       "      <th>Year</th>\n",
       "      <th>Month</th>\n",
       "      <th>Day</th>\n",
       "    </tr>\n",
       "  </thead>\n",
       "  <tbody>\n",
       "    <tr>\n",
       "      <th>0</th>\n",
       "      <td>1.0</td>\n",
       "      <td>28.7</td>\n",
       "      <td>21.4</td>\n",
       "      <td>58.255688</td>\n",
       "      <td>91.116364</td>\n",
       "      <td>28.074101</td>\n",
       "      <td>23.006936</td>\n",
       "      <td>6.818887</td>\n",
       "      <td>69.451805</td>\n",
       "      <td>0.233947</td>\n",
       "      <td>...</td>\n",
       "      <td>0.000000</td>\n",
       "      <td>0.000000</td>\n",
       "      <td>37.6046</td>\n",
       "      <td>126.991</td>\n",
       "      <td>212.3350</td>\n",
       "      <td>2.785000</td>\n",
       "      <td>5992.895996</td>\n",
       "      <td>2013.0</td>\n",
       "      <td>6.0</td>\n",
       "      <td>30.0</td>\n",
       "    </tr>\n",
       "    <tr>\n",
       "      <th>1</th>\n",
       "      <td>2.0</td>\n",
       "      <td>31.9</td>\n",
       "      <td>21.6</td>\n",
       "      <td>52.263397</td>\n",
       "      <td>90.604721</td>\n",
       "      <td>29.850689</td>\n",
       "      <td>24.035009</td>\n",
       "      <td>5.691890</td>\n",
       "      <td>51.937448</td>\n",
       "      <td>0.225508</td>\n",
       "      <td>...</td>\n",
       "      <td>0.000000</td>\n",
       "      <td>0.000000</td>\n",
       "      <td>37.6046</td>\n",
       "      <td>127.032</td>\n",
       "      <td>44.7624</td>\n",
       "      <td>0.514100</td>\n",
       "      <td>5869.312500</td>\n",
       "      <td>2013.0</td>\n",
       "      <td>6.0</td>\n",
       "      <td>30.0</td>\n",
       "    </tr>\n",
       "    <tr>\n",
       "      <th>2</th>\n",
       "      <td>3.0</td>\n",
       "      <td>31.6</td>\n",
       "      <td>23.3</td>\n",
       "      <td>48.690479</td>\n",
       "      <td>83.973587</td>\n",
       "      <td>30.091292</td>\n",
       "      <td>24.565633</td>\n",
       "      <td>6.138224</td>\n",
       "      <td>20.573050</td>\n",
       "      <td>0.209344</td>\n",
       "      <td>...</td>\n",
       "      <td>0.000000</td>\n",
       "      <td>0.000000</td>\n",
       "      <td>37.5776</td>\n",
       "      <td>127.058</td>\n",
       "      <td>33.3068</td>\n",
       "      <td>0.266100</td>\n",
       "      <td>5863.555664</td>\n",
       "      <td>2013.0</td>\n",
       "      <td>6.0</td>\n",
       "      <td>30.0</td>\n",
       "    </tr>\n",
       "    <tr>\n",
       "      <th>3</th>\n",
       "      <td>4.0</td>\n",
       "      <td>32.0</td>\n",
       "      <td>23.4</td>\n",
       "      <td>58.239788</td>\n",
       "      <td>96.483688</td>\n",
       "      <td>29.704629</td>\n",
       "      <td>23.326177</td>\n",
       "      <td>5.650050</td>\n",
       "      <td>65.727144</td>\n",
       "      <td>0.216372</td>\n",
       "      <td>...</td>\n",
       "      <td>0.000000</td>\n",
       "      <td>0.000000</td>\n",
       "      <td>37.6450</td>\n",
       "      <td>127.022</td>\n",
       "      <td>45.7160</td>\n",
       "      <td>2.534800</td>\n",
       "      <td>5856.964844</td>\n",
       "      <td>2013.0</td>\n",
       "      <td>6.0</td>\n",
       "      <td>30.0</td>\n",
       "    </tr>\n",
       "    <tr>\n",
       "      <th>4</th>\n",
       "      <td>5.0</td>\n",
       "      <td>31.4</td>\n",
       "      <td>21.9</td>\n",
       "      <td>56.174095</td>\n",
       "      <td>90.155128</td>\n",
       "      <td>29.113934</td>\n",
       "      <td>23.486480</td>\n",
       "      <td>5.735004</td>\n",
       "      <td>107.965535</td>\n",
       "      <td>0.151407</td>\n",
       "      <td>...</td>\n",
       "      <td>0.000000</td>\n",
       "      <td>0.000000</td>\n",
       "      <td>37.5507</td>\n",
       "      <td>127.135</td>\n",
       "      <td>35.0380</td>\n",
       "      <td>0.505500</td>\n",
       "      <td>5859.552246</td>\n",
       "      <td>2013.0</td>\n",
       "      <td>6.0</td>\n",
       "      <td>30.0</td>\n",
       "    </tr>\n",
       "    <tr>\n",
       "      <th>...</th>\n",
       "      <td>...</td>\n",
       "      <td>...</td>\n",
       "      <td>...</td>\n",
       "      <td>...</td>\n",
       "      <td>...</td>\n",
       "      <td>...</td>\n",
       "      <td>...</td>\n",
       "      <td>...</td>\n",
       "      <td>...</td>\n",
       "      <td>...</td>\n",
       "      <td>...</td>\n",
       "      <td>...</td>\n",
       "      <td>...</td>\n",
       "      <td>...</td>\n",
       "      <td>...</td>\n",
       "      <td>...</td>\n",
       "      <td>...</td>\n",
       "      <td>...</td>\n",
       "      <td>...</td>\n",
       "      <td>...</td>\n",
       "      <td>...</td>\n",
       "    </tr>\n",
       "    <tr>\n",
       "      <th>7747</th>\n",
       "      <td>23.0</td>\n",
       "      <td>23.3</td>\n",
       "      <td>17.1</td>\n",
       "      <td>26.741310</td>\n",
       "      <td>78.869858</td>\n",
       "      <td>26.352081</td>\n",
       "      <td>18.775678</td>\n",
       "      <td>6.148918</td>\n",
       "      <td>72.058294</td>\n",
       "      <td>0.030034</td>\n",
       "      <td>...</td>\n",
       "      <td>0.000000</td>\n",
       "      <td>0.000000</td>\n",
       "      <td>37.5372</td>\n",
       "      <td>126.891</td>\n",
       "      <td>15.5876</td>\n",
       "      <td>0.155400</td>\n",
       "      <td>4443.313965</td>\n",
       "      <td>2017.0</td>\n",
       "      <td>8.0</td>\n",
       "      <td>30.0</td>\n",
       "    </tr>\n",
       "    <tr>\n",
       "      <th>7748</th>\n",
       "      <td>24.0</td>\n",
       "      <td>23.3</td>\n",
       "      <td>17.7</td>\n",
       "      <td>24.040634</td>\n",
       "      <td>77.294975</td>\n",
       "      <td>27.010193</td>\n",
       "      <td>18.733519</td>\n",
       "      <td>6.542819</td>\n",
       "      <td>47.241457</td>\n",
       "      <td>0.035874</td>\n",
       "      <td>...</td>\n",
       "      <td>0.000000</td>\n",
       "      <td>0.000000</td>\n",
       "      <td>37.5237</td>\n",
       "      <td>126.909</td>\n",
       "      <td>17.2956</td>\n",
       "      <td>0.222300</td>\n",
       "      <td>4438.373535</td>\n",
       "      <td>2017.0</td>\n",
       "      <td>8.0</td>\n",
       "      <td>30.0</td>\n",
       "    </tr>\n",
       "    <tr>\n",
       "      <th>7749</th>\n",
       "      <td>25.0</td>\n",
       "      <td>23.2</td>\n",
       "      <td>17.4</td>\n",
       "      <td>22.933014</td>\n",
       "      <td>77.243744</td>\n",
       "      <td>27.939516</td>\n",
       "      <td>18.522965</td>\n",
       "      <td>7.289264</td>\n",
       "      <td>9.090034</td>\n",
       "      <td>0.048954</td>\n",
       "      <td>...</td>\n",
       "      <td>0.000000</td>\n",
       "      <td>0.000000</td>\n",
       "      <td>37.5237</td>\n",
       "      <td>126.970</td>\n",
       "      <td>19.5844</td>\n",
       "      <td>0.271300</td>\n",
       "      <td>4451.345215</td>\n",
       "      <td>2017.0</td>\n",
       "      <td>8.0</td>\n",
       "      <td>30.0</td>\n",
       "    </tr>\n",
       "    <tr>\n",
       "      <th>7750</th>\n",
       "      <td>13.0</td>\n",
       "      <td>20.0</td>\n",
       "      <td>11.3</td>\n",
       "      <td>19.794666</td>\n",
       "      <td>58.936283</td>\n",
       "      <td>17.624954</td>\n",
       "      <td>14.272646</td>\n",
       "      <td>2.882580</td>\n",
       "      <td>-13.603212</td>\n",
       "      <td>0.000000</td>\n",
       "      <td>...</td>\n",
       "      <td>0.000000</td>\n",
       "      <td>0.000000</td>\n",
       "      <td>37.4562</td>\n",
       "      <td>126.826</td>\n",
       "      <td>12.3700</td>\n",
       "      <td>0.098475</td>\n",
       "      <td>4329.520508</td>\n",
       "      <td>2015.0</td>\n",
       "      <td>7.0</td>\n",
       "      <td>16.0</td>\n",
       "    </tr>\n",
       "    <tr>\n",
       "      <th>7751</th>\n",
       "      <td>13.0</td>\n",
       "      <td>37.6</td>\n",
       "      <td>29.9</td>\n",
       "      <td>98.524734</td>\n",
       "      <td>100.000153</td>\n",
       "      <td>38.542255</td>\n",
       "      <td>29.619342</td>\n",
       "      <td>21.857621</td>\n",
       "      <td>213.414006</td>\n",
       "      <td>0.967277</td>\n",
       "      <td>...</td>\n",
       "      <td>15.841235</td>\n",
       "      <td>16.655469</td>\n",
       "      <td>37.6450</td>\n",
       "      <td>127.135</td>\n",
       "      <td>212.3350</td>\n",
       "      <td>5.178230</td>\n",
       "      <td>5992.895996</td>\n",
       "      <td>2015.0</td>\n",
       "      <td>7.0</td>\n",
       "      <td>16.0</td>\n",
       "    </tr>\n",
       "  </tbody>\n",
       "</table>\n",
       "<p>7752 rows × 25 columns</p>\n",
       "</div>"
      ],
      "text/plain": [
       "      station  Present_Tmax  Present_Tmin  LDAPS_RHmin  LDAPS_RHmax  \\\n",
       "0         1.0          28.7          21.4    58.255688    91.116364   \n",
       "1         2.0          31.9          21.6    52.263397    90.604721   \n",
       "2         3.0          31.6          23.3    48.690479    83.973587   \n",
       "3         4.0          32.0          23.4    58.239788    96.483688   \n",
       "4         5.0          31.4          21.9    56.174095    90.155128   \n",
       "...       ...           ...           ...          ...          ...   \n",
       "7747     23.0          23.3          17.1    26.741310    78.869858   \n",
       "7748     24.0          23.3          17.7    24.040634    77.294975   \n",
       "7749     25.0          23.2          17.4    22.933014    77.243744   \n",
       "7750     13.0          20.0          11.3    19.794666    58.936283   \n",
       "7751     13.0          37.6          29.9    98.524734   100.000153   \n",
       "\n",
       "      LDAPS_Tmax_lapse  LDAPS_Tmin_lapse   LDAPS_WS    LDAPS_LH  LDAPS_CC1  \\\n",
       "0            28.074101         23.006936   6.818887   69.451805   0.233947   \n",
       "1            29.850689         24.035009   5.691890   51.937448   0.225508   \n",
       "2            30.091292         24.565633   6.138224   20.573050   0.209344   \n",
       "3            29.704629         23.326177   5.650050   65.727144   0.216372   \n",
       "4            29.113934         23.486480   5.735004  107.965535   0.151407   \n",
       "...                ...               ...        ...         ...        ...   \n",
       "7747         26.352081         18.775678   6.148918   72.058294   0.030034   \n",
       "7748         27.010193         18.733519   6.542819   47.241457   0.035874   \n",
       "7749         27.939516         18.522965   7.289264    9.090034   0.048954   \n",
       "7750         17.624954         14.272646   2.882580  -13.603212   0.000000   \n",
       "7751         38.542255         29.619342  21.857621  213.414006   0.967277   \n",
       "\n",
       "      ...  LDAPS_PPT3  LDAPS_PPT4      lat      lon       DEM     Slope  \\\n",
       "0     ...    0.000000    0.000000  37.6046  126.991  212.3350  2.785000   \n",
       "1     ...    0.000000    0.000000  37.6046  127.032   44.7624  0.514100   \n",
       "2     ...    0.000000    0.000000  37.5776  127.058   33.3068  0.266100   \n",
       "3     ...    0.000000    0.000000  37.6450  127.022   45.7160  2.534800   \n",
       "4     ...    0.000000    0.000000  37.5507  127.135   35.0380  0.505500   \n",
       "...   ...         ...         ...      ...      ...       ...       ...   \n",
       "7747  ...    0.000000    0.000000  37.5372  126.891   15.5876  0.155400   \n",
       "7748  ...    0.000000    0.000000  37.5237  126.909   17.2956  0.222300   \n",
       "7749  ...    0.000000    0.000000  37.5237  126.970   19.5844  0.271300   \n",
       "7750  ...    0.000000    0.000000  37.4562  126.826   12.3700  0.098475   \n",
       "7751  ...   15.841235   16.655469  37.6450  127.135  212.3350  5.178230   \n",
       "\n",
       "      Solar radiation    Year  Month   Day  \n",
       "0         5992.895996  2013.0    6.0  30.0  \n",
       "1         5869.312500  2013.0    6.0  30.0  \n",
       "2         5863.555664  2013.0    6.0  30.0  \n",
       "3         5856.964844  2013.0    6.0  30.0  \n",
       "4         5859.552246  2013.0    6.0  30.0  \n",
       "...               ...     ...    ...   ...  \n",
       "7747      4443.313965  2017.0    8.0  30.0  \n",
       "7748      4438.373535  2017.0    8.0  30.0  \n",
       "7749      4451.345215  2017.0    8.0  30.0  \n",
       "7750      4329.520508  2015.0    7.0  16.0  \n",
       "7751      5992.895996  2015.0    7.0  16.0  \n",
       "\n",
       "[7752 rows x 25 columns]"
      ]
     },
     "execution_count": 96,
     "metadata": {},
     "output_type": "execute_result"
    }
   ],
   "source": [
    "x"
   ]
  },
  {
   "cell_type": "code",
   "execution_count": 97,
   "metadata": {},
   "outputs": [
    {
     "data": {
      "text/plain": [
       "0       21.2\n",
       "1       22.5\n",
       "2       23.9\n",
       "3       24.3\n",
       "4       22.5\n",
       "        ... \n",
       "7747    18.1\n",
       "7748    18.8\n",
       "7749    17.4\n",
       "7750    11.3\n",
       "7751    29.8\n",
       "Name: Next_Tmin, Length: 7752, dtype: float64"
      ]
     },
     "execution_count": 97,
     "metadata": {},
     "output_type": "execute_result"
    }
   ],
   "source": [
    "y"
   ]
  },
  {
   "cell_type": "code",
   "execution_count": 98,
   "metadata": {},
   "outputs": [],
   "source": [
    "scaler = StandardScaler()\n",
    "\n",
    "x_scaled = scaler.fit_transform(x)"
   ]
  },
  {
   "cell_type": "code",
   "execution_count": 99,
   "metadata": {},
   "outputs": [
    {
     "data": {
      "text/plain": [
       "array([[-1.6643153 , -0.36132577, -0.75952931, ..., -1.41439603,\n",
       "        -0.48286762,  1.65407295],\n",
       "       [-1.52562236,  0.72108401, -0.6762959 , ..., -1.41439603,\n",
       "        -0.48286762,  1.65407295],\n",
       "       [-1.38692941,  0.61960809,  0.03118815, ..., -1.41439603,\n",
       "        -0.48286762,  1.65407295],\n",
       "       ...,\n",
       "       [ 1.6643153 , -2.22171758, -2.42419767, ...,  1.41439603,\n",
       "         0.41081503,  1.65407295],\n",
       "       [ 0.        , -3.30412736, -4.9628169 , ...,  0.        ,\n",
       "        -0.03602629, -0.04501017],\n",
       "       [ 0.        ,  2.64912642,  2.77789093, ...,  0.        ,\n",
       "        -0.03602629, -0.04501017]])"
      ]
     },
     "execution_count": 99,
     "metadata": {},
     "output_type": "execute_result"
    }
   ],
   "source": [
    "x_scaled"
   ]
  },
  {
   "cell_type": "code",
   "execution_count": 100,
   "metadata": {},
   "outputs": [
    {
     "data": {
      "text/plain": [
       "5000    20.7\n",
       "509     25.1\n",
       "6963    24.1\n",
       "2043    23.2\n",
       "1300    24.0\n",
       "Name: Next_Tmin, dtype: float64"
      ]
     },
     "execution_count": 100,
     "metadata": {},
     "output_type": "execute_result"
    }
   ],
   "source": [
    "x_train,x_test,y_train,y_test = train_test_split(x_scaled,y,test_size=0.25,random_state=21)\n",
    "y_train.head()"
   ]
  },
  {
   "cell_type": "code",
   "execution_count": 101,
   "metadata": {},
   "outputs": [
    {
     "data": {
      "text/plain": [
       "LinearRegression()"
      ]
     },
     "execution_count": 101,
     "metadata": {},
     "output_type": "execute_result"
    }
   ],
   "source": [
    "regression = LinearRegression()\n",
    "regression.fit(x_train,y_train)"
   ]
  },
  {
   "cell_type": "code",
   "execution_count": 102,
   "metadata": {},
   "outputs": [
    {
     "data": {
      "text/plain": [
       "0.8303248633824712"
      ]
     },
     "execution_count": 102,
     "metadata": {},
     "output_type": "execute_result"
    }
   ],
   "source": [
    "# Adjusted R2 score\n",
    "regression.score(x_train,y_train)"
   ]
  },
  {
   "cell_type": "code",
   "execution_count": 103,
   "metadata": {},
   "outputs": [
    {
     "data": {
      "text/plain": [
       "0.8352438551510887"
      ]
     },
     "execution_count": 103,
     "metadata": {},
     "output_type": "execute_result"
    }
   ],
   "source": [
    "#Lets check how model fits to test data.\n",
    "regression.score(x_test,y_test)"
   ]
  },
  {
   "cell_type": "code",
   "execution_count": 104,
   "metadata": {},
   "outputs": [],
   "source": [
    "y_pred = regression.predict(x_test)"
   ]
  },
  {
   "cell_type": "code",
   "execution_count": 105,
   "metadata": {},
   "outputs": [
    {
     "data": {
      "text/plain": [
       "array([23.59429635, 19.15244166, 23.63494282, ..., 25.70337237,\n",
       "       21.59079676, 24.81173096])"
      ]
     },
     "execution_count": 105,
     "metadata": {},
     "output_type": "execute_result"
    }
   ],
   "source": [
    "y_pred"
   ]
  },
  {
   "cell_type": "code",
   "execution_count": 106,
   "metadata": {},
   "outputs": [
    {
     "name": "stdout",
     "output_type": "stream",
     "text": [
      "0.8352438551510887\n"
     ]
    }
   ],
   "source": [
    "from sklearn.metrics import r2_score\n",
    "print(r2_score(y_test,y_pred))"
   ]
  },
  {
   "cell_type": "markdown",
   "metadata": {},
   "source": [
    "# Regularisation"
   ]
  },
  {
   "cell_type": "code",
   "execution_count": 107,
   "metadata": {},
   "outputs": [],
   "source": [
    "from sklearn.model_selection import GridSearchCV\n",
    "from sklearn.model_selection import cross_val_score\n",
    "import warnings\n",
    "warnings.filterwarnings('ignore')\n",
    "from sklearn.linear_model import Lasso"
   ]
  },
  {
   "cell_type": "code",
   "execution_count": 108,
   "metadata": {},
   "outputs": [
    {
     "name": "stdout",
     "output_type": "stream",
     "text": [
      "{'alpha': 0.0001, 'random_state': 0}\n"
     ]
    }
   ],
   "source": [
    "parameters = {'alpha':[.0001,.001,.01,1,10],'random_state':list(range(0,10))}\n",
    "ls=Lasso()\n",
    "clf=GridSearchCV(ls,parameters)\n",
    "clf.fit(x_train,y_train)\n",
    "\n",
    "print(clf.best_params_)"
   ]
  },
  {
   "cell_type": "code",
   "execution_count": 109,
   "metadata": {},
   "outputs": [
    {
     "data": {
      "text/plain": [
       "0.8352491453868454"
      ]
     },
     "execution_count": 109,
     "metadata": {},
     "output_type": "execute_result"
    }
   ],
   "source": [
    "ls= Lasso(alpha=0.0001,random_state=0)\n",
    "ls.fit(x_train,y_train)\n",
    "ls.score(x_train,y_train)\n",
    "pred_ls=ls.predict(x_test)\n",
    "\n",
    "lss= r2_score(y_test,pred_ls)\n",
    "lss"
   ]
  },
  {
   "cell_type": "code",
   "execution_count": 110,
   "metadata": {},
   "outputs": [
    {
     "data": {
      "text/plain": [
       "0.7694937967218558"
      ]
     },
     "execution_count": 110,
     "metadata": {},
     "output_type": "execute_result"
    }
   ],
   "source": [
    "cv_score = cross_val_score(ls,x,y,cv=5)\n",
    "cv_mean=cv_score.mean()\n",
    "cv_mean\n"
   ]
  },
  {
   "cell_type": "markdown",
   "metadata": {},
   "source": [
    "# Ensemble Technique"
   ]
  },
  {
   "cell_type": "code",
   "execution_count": 111,
   "metadata": {},
   "outputs": [
    {
     "name": "stdout",
     "output_type": "stream",
     "text": [
      "{'criterion': 'mse', 'max_features': 'sqrt'}\n"
     ]
    }
   ],
   "source": [
    "from sklearn.ensemble import RandomForestRegressor\n",
    "\n",
    "parameters={'criterion':['mse','mae'],'max_features':['auto','sqrt','log2']}\n",
    "rf=RandomForestRegressor()\n",
    "clf=GridSearchCV(rf,parameters)\n",
    "clf.fit(x_train,y_train)\n",
    "\n",
    "print(clf.best_params_)"
   ]
  },
  {
   "cell_type": "code",
   "execution_count": 112,
   "metadata": {},
   "outputs": [
    {
     "name": "stdout",
     "output_type": "stream",
     "text": [
      "R2 Score: 91.75758549377608\n",
      "Cross_Val_Score: 76.3366848977324\n"
     ]
    }
   ],
   "source": [
    "rf=RandomForestRegressor(criterion='mse', max_features='sqrt')\n",
    "rf.fit(x_train,y_train)\n",
    "rf.score(x_train,y_train)\n",
    "pred_decision=rf.predict(x_test)\n",
    "\n",
    "\n",
    "rfs= r2_score(y_test,pred_decision)\n",
    "print('R2 Score:',rfs*100)\n",
    "\n",
    "rfscore=cross_val_score(rf,x,y,cv=5)\n",
    "rfc=rfscore.mean()\n",
    "\n",
    "print('Cross_Val_Score:',rfc*100)\n"
   ]
  },
  {
   "cell_type": "code",
   "execution_count": null,
   "metadata": {},
   "outputs": [],
   "source": [
    "we get more accuracy by using random forest regressor then linear regression \n",
    "is 91.75%"
   ]
  }
 ],
 "metadata": {
  "kernelspec": {
   "display_name": "Python 3",
   "language": "python",
   "name": "python3"
  },
  "language_info": {
   "codemirror_mode": {
    "name": "ipython",
    "version": 3
   },
   "file_extension": ".py",
   "mimetype": "text/x-python",
   "name": "python",
   "nbconvert_exporter": "python",
   "pygments_lexer": "ipython3",
   "version": "3.8.5"
  }
 },
 "nbformat": 4,
 "nbformat_minor": 4
}
